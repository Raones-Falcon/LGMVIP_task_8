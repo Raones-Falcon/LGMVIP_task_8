{
 "cells": [
  {
   "cell_type": "markdown",
   "id": "b06dcfeb",
   "metadata": {},
   "source": [
    "# Business analysis:\n",
    "\n",
    "Objective :\n",
    "\n",
    " I have started a new business called studio_ra.one wheere I am providing services to small medium and micro business\n",
    " \n",
    " Services :\n",
    " \n",
    " 1. video making and editing for business\n",
    " 2. Social media advertismnet  IG page paid promotion\n",
    " 3. Social media planning and stratergy for videos \n",
    " 4.Business analysis\n",
    " \n",
    " \n",
    "         4.1  collcet excel data from business owner : \n",
    "         4.2  upload on jupyter notebook\n",
    "         4.3  do preprocessing on it\n",
    "         4.5  do EDA\n",
    "         4.6 do Predection analysis\n",
    "         4.7 tell businee man about his current business status \n",
    "         \n",
    "         \n",
    "         4.8 collect his data and summerize it analysze it and provide simply a dashbord \n",
    "         \n",
    "         \n",
    "         "
   ]
  },
  {
   "cell_type": "markdown",
   "id": "f7e824be",
   "metadata": {},
   "source": [
    "# 4.8 collect his data and summerize it analysze it and provide simply a dashbord "
   ]
  },
  {
   "cell_type": "markdown",
   "id": "c96edad7",
   "metadata": {},
   "source": []
  },
  {
   "cell_type": "code",
   "execution_count": null,
   "id": "616e5c1c",
   "metadata": {},
   "outputs": [],
   "source": []
  },
  {
   "cell_type": "code",
   "execution_count": null,
   "id": "1a8820d8",
   "metadata": {},
   "outputs": [],
   "source": []
  },
  {
   "cell_type": "code",
   "execution_count": null,
   "id": "5fb1e1ca",
   "metadata": {},
   "outputs": [],
   "source": []
  },
  {
   "cell_type": "code",
   "execution_count": null,
   "id": "c832f5d3",
   "metadata": {},
   "outputs": [],
   "source": []
  },
  {
   "cell_type": "code",
   "execution_count": 1,
   "id": "13b8eb33",
   "metadata": {},
   "outputs": [],
   "source": [
    "# Practicng for it : \n",
    "\n",
    "\n",
    "#dataset : scooty quotation form aprila showroom dated- 25Jan 2023 \n",
    "# my goal : try to findout some more information  by simply adding data on jupyter bv\n",
    "            # so I can pitch the business owner about :\n",
    "    \n",
    "             # what he can do for more porfit\n",
    "             # how his products is in compition market \n",
    "            #  where his maximum business flows goes .\n",
    "            # his productes performaces .... etc "
   ]
  },
  {
   "cell_type": "markdown",
   "id": "920139a7",
   "metadata": {},
   "source": [
    "Trying to analysis the real simple scooter quoteation given by sales man  when i visite the shop   :::::::::\n",
    "\n",
    "\n",
    "\n",
    "\n",
    "\n",
    " For me : I can better understnad what exactyl difference is about\n",
    " \n",
    " \n",
    " \n",
    " \n",
    " \n",
    " \n",
    " For business owner : know the difference and pitch to cutomer according to it ."
   ]
  },
  {
   "cell_type": "code",
   "execution_count": 2,
   "id": "dd422d5b",
   "metadata": {},
   "outputs": [],
   "source": [
    "# lTEs go !!!!!"
   ]
  },
  {
   "cell_type": "code",
   "execution_count": null,
   "id": "d12db24a",
   "metadata": {},
   "outputs": [],
   "source": []
  },
  {
   "cell_type": "code",
   "execution_count": null,
   "id": "36f84e5b",
   "metadata": {},
   "outputs": [],
   "source": []
  },
  {
   "cell_type": "code",
   "execution_count": null,
   "id": "2880ef9e",
   "metadata": {},
   "outputs": [],
   "source": []
  },
  {
   "cell_type": "markdown",
   "id": "c0b2cbd8",
   "metadata": {},
   "source": [
    "# Creating a Database :\n",
    "\n"
   ]
  },
  {
   "cell_type": "code",
   "execution_count": 3,
   "id": "34cf6695",
   "metadata": {},
   "outputs": [],
   "source": [
    "import pandas as pd\n",
    "import numpy as np\n",
    "import seaborn as sns\n",
    "import matplotlib.pyplot as plt\n",
    "%matplotlib inline\n"
   ]
  },
  {
   "cell_type": "code",
   "execution_count": 4,
   "id": "e15af2b7",
   "metadata": {},
   "outputs": [],
   "source": [
    "data={'Version_VESPA':['125cc','125cc','125cc','125cc','125cc','150cc','150cc','150cc','150cc'],\n",
    "      'Model':['ZX','VXL','SXL','SXL Racing_SIXTIES','75th YELLOW','VXL','SXL','SXL_RACING_SIXTIES','ELEGANTE'],\n",
    "     'Ex-showroom':[113990,128108,131984,137805,140500,141570,145936,151604,154025],\n",
    "      'Insurance':[7188,7469,7544,7660,7713,7735,7822,7933,7981],\n",
    "      'PDI handling':[1499,1499,1499,1499,1499,1499,1499,1499,1499],\n",
    "      'RTO':[15502,17230,17705,18417,17197,18878,19413,20106,20402],\n",
    "      'ON_Road':[138179,154306,158732,165381,166909,169682,174670,181142,183907] }   \n",
    "        \n",
    "\n",
    "\n",
    "\n"
   ]
  },
  {
   "cell_type": "code",
   "execution_count": 5,
   "id": "8c314909",
   "metadata": {},
   "outputs": [],
   "source": [
    "df=pd.DataFrame(data)"
   ]
  },
  {
   "cell_type": "code",
   "execution_count": 6,
   "id": "a853559d",
   "metadata": {},
   "outputs": [
    {
     "data": {
      "text/html": [
       "<div>\n",
       "<style scoped>\n",
       "    .dataframe tbody tr th:only-of-type {\n",
       "        vertical-align: middle;\n",
       "    }\n",
       "\n",
       "    .dataframe tbody tr th {\n",
       "        vertical-align: top;\n",
       "    }\n",
       "\n",
       "    .dataframe thead th {\n",
       "        text-align: right;\n",
       "    }\n",
       "</style>\n",
       "<table border=\"1\" class=\"dataframe\">\n",
       "  <thead>\n",
       "    <tr style=\"text-align: right;\">\n",
       "      <th></th>\n",
       "      <th>Version_VESPA</th>\n",
       "      <th>Model</th>\n",
       "      <th>Ex-showroom</th>\n",
       "      <th>Insurance</th>\n",
       "      <th>PDI handling</th>\n",
       "      <th>RTO</th>\n",
       "      <th>ON_Road</th>\n",
       "    </tr>\n",
       "  </thead>\n",
       "  <tbody>\n",
       "    <tr>\n",
       "      <th>0</th>\n",
       "      <td>125cc</td>\n",
       "      <td>ZX</td>\n",
       "      <td>113990</td>\n",
       "      <td>7188</td>\n",
       "      <td>1499</td>\n",
       "      <td>15502</td>\n",
       "      <td>138179</td>\n",
       "    </tr>\n",
       "    <tr>\n",
       "      <th>1</th>\n",
       "      <td>125cc</td>\n",
       "      <td>VXL</td>\n",
       "      <td>128108</td>\n",
       "      <td>7469</td>\n",
       "      <td>1499</td>\n",
       "      <td>17230</td>\n",
       "      <td>154306</td>\n",
       "    </tr>\n",
       "    <tr>\n",
       "      <th>2</th>\n",
       "      <td>125cc</td>\n",
       "      <td>SXL</td>\n",
       "      <td>131984</td>\n",
       "      <td>7544</td>\n",
       "      <td>1499</td>\n",
       "      <td>17705</td>\n",
       "      <td>158732</td>\n",
       "    </tr>\n",
       "    <tr>\n",
       "      <th>3</th>\n",
       "      <td>125cc</td>\n",
       "      <td>SXL Racing_SIXTIES</td>\n",
       "      <td>137805</td>\n",
       "      <td>7660</td>\n",
       "      <td>1499</td>\n",
       "      <td>18417</td>\n",
       "      <td>165381</td>\n",
       "    </tr>\n",
       "    <tr>\n",
       "      <th>4</th>\n",
       "      <td>125cc</td>\n",
       "      <td>75th YELLOW</td>\n",
       "      <td>140500</td>\n",
       "      <td>7713</td>\n",
       "      <td>1499</td>\n",
       "      <td>17197</td>\n",
       "      <td>166909</td>\n",
       "    </tr>\n",
       "    <tr>\n",
       "      <th>5</th>\n",
       "      <td>150cc</td>\n",
       "      <td>VXL</td>\n",
       "      <td>141570</td>\n",
       "      <td>7735</td>\n",
       "      <td>1499</td>\n",
       "      <td>18878</td>\n",
       "      <td>169682</td>\n",
       "    </tr>\n",
       "    <tr>\n",
       "      <th>6</th>\n",
       "      <td>150cc</td>\n",
       "      <td>SXL</td>\n",
       "      <td>145936</td>\n",
       "      <td>7822</td>\n",
       "      <td>1499</td>\n",
       "      <td>19413</td>\n",
       "      <td>174670</td>\n",
       "    </tr>\n",
       "    <tr>\n",
       "      <th>7</th>\n",
       "      <td>150cc</td>\n",
       "      <td>SXL_RACING_SIXTIES</td>\n",
       "      <td>151604</td>\n",
       "      <td>7933</td>\n",
       "      <td>1499</td>\n",
       "      <td>20106</td>\n",
       "      <td>181142</td>\n",
       "    </tr>\n",
       "    <tr>\n",
       "      <th>8</th>\n",
       "      <td>150cc</td>\n",
       "      <td>ELEGANTE</td>\n",
       "      <td>154025</td>\n",
       "      <td>7981</td>\n",
       "      <td>1499</td>\n",
       "      <td>20402</td>\n",
       "      <td>183907</td>\n",
       "    </tr>\n",
       "  </tbody>\n",
       "</table>\n",
       "</div>"
      ],
      "text/plain": [
       "  Version_VESPA               Model  Ex-showroom  Insurance  PDI handling  \\\n",
       "0         125cc                  ZX       113990       7188          1499   \n",
       "1         125cc                 VXL       128108       7469          1499   \n",
       "2         125cc                 SXL       131984       7544          1499   \n",
       "3         125cc  SXL Racing_SIXTIES       137805       7660          1499   \n",
       "4         125cc         75th YELLOW       140500       7713          1499   \n",
       "5         150cc                 VXL       141570       7735          1499   \n",
       "6         150cc                 SXL       145936       7822          1499   \n",
       "7         150cc  SXL_RACING_SIXTIES       151604       7933          1499   \n",
       "8         150cc            ELEGANTE       154025       7981          1499   \n",
       "\n",
       "     RTO  ON_Road  \n",
       "0  15502   138179  \n",
       "1  17230   154306  \n",
       "2  17705   158732  \n",
       "3  18417   165381  \n",
       "4  17197   166909  \n",
       "5  18878   169682  \n",
       "6  19413   174670  \n",
       "7  20106   181142  \n",
       "8  20402   183907  "
      ]
     },
     "execution_count": 6,
     "metadata": {},
     "output_type": "execute_result"
    }
   ],
   "source": [
    "df"
   ]
  },
  {
   "cell_type": "code",
   "execution_count": 7,
   "id": "424c879c",
   "metadata": {},
   "outputs": [
    {
     "data": {
      "text/plain": [
       "(9, 7)"
      ]
     },
     "execution_count": 7,
     "metadata": {},
     "output_type": "execute_result"
    }
   ],
   "source": [
    "df.shape"
   ]
  },
  {
   "cell_type": "code",
   "execution_count": 8,
   "id": "34f76d92",
   "metadata": {},
   "outputs": [
    {
     "data": {
      "text/html": [
       "<div>\n",
       "<style scoped>\n",
       "    .dataframe tbody tr th:only-of-type {\n",
       "        vertical-align: middle;\n",
       "    }\n",
       "\n",
       "    .dataframe tbody tr th {\n",
       "        vertical-align: top;\n",
       "    }\n",
       "\n",
       "    .dataframe thead th {\n",
       "        text-align: right;\n",
       "    }\n",
       "</style>\n",
       "<table border=\"1\" class=\"dataframe\">\n",
       "  <thead>\n",
       "    <tr style=\"text-align: right;\">\n",
       "      <th></th>\n",
       "      <th>Ex-showroom</th>\n",
       "      <th>Insurance</th>\n",
       "      <th>PDI handling</th>\n",
       "      <th>RTO</th>\n",
       "      <th>ON_Road</th>\n",
       "    </tr>\n",
       "  </thead>\n",
       "  <tbody>\n",
       "    <tr>\n",
       "      <th>count</th>\n",
       "      <td>9.000000</td>\n",
       "      <td>9.000000</td>\n",
       "      <td>9.0</td>\n",
       "      <td>9.000000</td>\n",
       "      <td>9.000000</td>\n",
       "    </tr>\n",
       "    <tr>\n",
       "      <th>mean</th>\n",
       "      <td>138391.333333</td>\n",
       "      <td>7671.666667</td>\n",
       "      <td>1499.0</td>\n",
       "      <td>18316.666667</td>\n",
       "      <td>165878.666667</td>\n",
       "    </tr>\n",
       "    <tr>\n",
       "      <th>std</th>\n",
       "      <td>12414.851016</td>\n",
       "      <td>245.902420</td>\n",
       "      <td>0.0</td>\n",
       "      <td>1573.547743</td>\n",
       "      <td>14156.823814</td>\n",
       "    </tr>\n",
       "    <tr>\n",
       "      <th>min</th>\n",
       "      <td>113990.000000</td>\n",
       "      <td>7188.000000</td>\n",
       "      <td>1499.0</td>\n",
       "      <td>15502.000000</td>\n",
       "      <td>138179.000000</td>\n",
       "    </tr>\n",
       "    <tr>\n",
       "      <th>25%</th>\n",
       "      <td>131984.000000</td>\n",
       "      <td>7544.000000</td>\n",
       "      <td>1499.0</td>\n",
       "      <td>17230.000000</td>\n",
       "      <td>158732.000000</td>\n",
       "    </tr>\n",
       "    <tr>\n",
       "      <th>50%</th>\n",
       "      <td>140500.000000</td>\n",
       "      <td>7713.000000</td>\n",
       "      <td>1499.0</td>\n",
       "      <td>18417.000000</td>\n",
       "      <td>166909.000000</td>\n",
       "    </tr>\n",
       "    <tr>\n",
       "      <th>75%</th>\n",
       "      <td>145936.000000</td>\n",
       "      <td>7822.000000</td>\n",
       "      <td>1499.0</td>\n",
       "      <td>19413.000000</td>\n",
       "      <td>174670.000000</td>\n",
       "    </tr>\n",
       "    <tr>\n",
       "      <th>max</th>\n",
       "      <td>154025.000000</td>\n",
       "      <td>7981.000000</td>\n",
       "      <td>1499.0</td>\n",
       "      <td>20402.000000</td>\n",
       "      <td>183907.000000</td>\n",
       "    </tr>\n",
       "  </tbody>\n",
       "</table>\n",
       "</div>"
      ],
      "text/plain": [
       "         Ex-showroom    Insurance  PDI handling           RTO        ON_Road\n",
       "count       9.000000     9.000000           9.0      9.000000       9.000000\n",
       "mean   138391.333333  7671.666667        1499.0  18316.666667  165878.666667\n",
       "std     12414.851016   245.902420           0.0   1573.547743   14156.823814\n",
       "min    113990.000000  7188.000000        1499.0  15502.000000  138179.000000\n",
       "25%    131984.000000  7544.000000        1499.0  17230.000000  158732.000000\n",
       "50%    140500.000000  7713.000000        1499.0  18417.000000  166909.000000\n",
       "75%    145936.000000  7822.000000        1499.0  19413.000000  174670.000000\n",
       "max    154025.000000  7981.000000        1499.0  20402.000000  183907.000000"
      ]
     },
     "execution_count": 8,
     "metadata": {},
     "output_type": "execute_result"
    }
   ],
   "source": [
    "df.describe()"
   ]
  },
  {
   "cell_type": "code",
   "execution_count": 9,
   "id": "86487902",
   "metadata": {},
   "outputs": [
    {
     "data": {
      "text/plain": [
       "Version_VESPA    9\n",
       "Model            9\n",
       "Ex-showroom      9\n",
       "Insurance        9\n",
       "PDI handling     9\n",
       "RTO              9\n",
       "ON_Road          9\n",
       "dtype: int64"
      ]
     },
     "execution_count": 9,
     "metadata": {},
     "output_type": "execute_result"
    }
   ],
   "source": [
    "df.count()"
   ]
  },
  {
   "cell_type": "code",
   "execution_count": 10,
   "id": "e6c919c0",
   "metadata": {},
   "outputs": [
    {
     "data": {
      "text/html": [
       "<div>\n",
       "<style scoped>\n",
       "    .dataframe tbody tr th:only-of-type {\n",
       "        vertical-align: middle;\n",
       "    }\n",
       "\n",
       "    .dataframe tbody tr th {\n",
       "        vertical-align: top;\n",
       "    }\n",
       "\n",
       "    .dataframe thead th {\n",
       "        text-align: right;\n",
       "    }\n",
       "</style>\n",
       "<table border=\"1\" class=\"dataframe\">\n",
       "  <thead>\n",
       "    <tr style=\"text-align: right;\">\n",
       "      <th></th>\n",
       "      <th>Ex-showroom</th>\n",
       "      <th>Insurance</th>\n",
       "      <th>PDI handling</th>\n",
       "      <th>RTO</th>\n",
       "      <th>ON_Road</th>\n",
       "    </tr>\n",
       "  </thead>\n",
       "  <tbody>\n",
       "    <tr>\n",
       "      <th>Ex-showroom</th>\n",
       "      <td>1.000000</td>\n",
       "      <td>0.999997</td>\n",
       "      <td>NaN</td>\n",
       "      <td>0.944790</td>\n",
       "      <td>0.999336</td>\n",
       "    </tr>\n",
       "    <tr>\n",
       "      <th>Insurance</th>\n",
       "      <td>0.999997</td>\n",
       "      <td>1.000000</td>\n",
       "      <td>NaN</td>\n",
       "      <td>0.945004</td>\n",
       "      <td>0.999357</td>\n",
       "    </tr>\n",
       "    <tr>\n",
       "      <th>PDI handling</th>\n",
       "      <td>NaN</td>\n",
       "      <td>NaN</td>\n",
       "      <td>NaN</td>\n",
       "      <td>NaN</td>\n",
       "      <td>NaN</td>\n",
       "    </tr>\n",
       "    <tr>\n",
       "      <th>RTO</th>\n",
       "      <td>0.944790</td>\n",
       "      <td>0.945004</td>\n",
       "      <td>NaN</td>\n",
       "      <td>1.000000</td>\n",
       "      <td>0.956101</td>\n",
       "    </tr>\n",
       "    <tr>\n",
       "      <th>ON_Road</th>\n",
       "      <td>0.999336</td>\n",
       "      <td>0.999357</td>\n",
       "      <td>NaN</td>\n",
       "      <td>0.956101</td>\n",
       "      <td>1.000000</td>\n",
       "    </tr>\n",
       "  </tbody>\n",
       "</table>\n",
       "</div>"
      ],
      "text/plain": [
       "              Ex-showroom  Insurance  PDI handling       RTO   ON_Road\n",
       "Ex-showroom      1.000000   0.999997           NaN  0.944790  0.999336\n",
       "Insurance        0.999997   1.000000           NaN  0.945004  0.999357\n",
       "PDI handling          NaN        NaN           NaN       NaN       NaN\n",
       "RTO              0.944790   0.945004           NaN  1.000000  0.956101\n",
       "ON_Road          0.999336   0.999357           NaN  0.956101  1.000000"
      ]
     },
     "execution_count": 10,
     "metadata": {},
     "output_type": "execute_result"
    }
   ],
   "source": [
    "df.corr()"
   ]
  },
  {
   "cell_type": "code",
   "execution_count": 11,
   "id": "aa1984aa",
   "metadata": {},
   "outputs": [
    {
     "data": {
      "text/plain": [
       "Text(0.5, 1.0, 'Corelations  of variables')"
      ]
     },
     "execution_count": 11,
     "metadata": {},
     "output_type": "execute_result"
    },
    {
     "data": {
      "image/png": "[encoded data removed]",
      "text/plain": [
       "<Figure size 432x288 with 2 Axes>"
      ]
     },
     "metadata": {
      "needs_background": "light"
     },
     "output_type": "display_data"
    }
   ],
   "source": [
    "sns.heatmap(data=df.corr(),annot=True,cmap='CMRmap_r')\n",
    "plt.title('Corelations  of variables')"
   ]
  },
  {
   "cell_type": "markdown",
   "id": "9d824f53",
   "metadata": {},
   "source": [
    "1.Ex: showroom : Insurance 100%\n",
    "\n",
    "2.Ex: showroom : On_road   100%\n",
    "\n",
    "3.Ex.showroom : RTO        94%\n",
    "\n",
    "4.Insurance  : RTO         95 %\n",
    "\n",
    "5.Insurance  : On_Road     100 %\n",
    "\n",
    "6.RTO  : On_road            96 %"
   ]
  },
  {
   "cell_type": "code",
   "execution_count": null,
   "id": "f25b7856",
   "metadata": {},
   "outputs": [],
   "source": []
  },
  {
   "cell_type": "code",
   "execution_count": null,
   "id": "b2693568",
   "metadata": {},
   "outputs": [],
   "source": []
  },
  {
   "cell_type": "code",
   "execution_count": null,
   "id": "616fe319",
   "metadata": {},
   "outputs": [],
   "source": []
  },
  {
   "cell_type": "code",
   "execution_count": null,
   "id": "ad5a797a",
   "metadata": {},
   "outputs": [],
   "source": []
  },
  {
   "cell_type": "code",
   "execution_count": null,
   "id": "c15c1c2a",
   "metadata": {},
   "outputs": [],
   "source": []
  },
  {
   "cell_type": "code",
   "execution_count": null,
   "id": "bc6e0c6c",
   "metadata": {},
   "outputs": [],
   "source": []
  },
  {
   "cell_type": "markdown",
   "id": "71038e2f",
   "metadata": {},
   "source": [
    "1.Ex: showroom : Insurance 100%\n",
    "\n",
    "2.Ex: showroom : On_road 100%\n",
    "\n",
    "5.Insurance : On_Road 100 %"
   ]
  },
  {
   "cell_type": "markdown",
   "id": "f3bc0ccd",
   "metadata": {},
   "source": [
    "1.Ex- showroom \n",
    "\n",
    "2.Insurance \n",
    "\n",
    "3.On_raod\n",
    "\n",
    "\n",
    "\n"
   ]
  },
  {
   "cell_type": "markdown",
   "id": "9b0cdb2c",
   "metadata": {},
   "source": [
    "# As it is the Quotation for new scooter :\n",
    "\n",
    "\n",
    "\n",
    "\n",
    "# 1.Dependent variable : On_road \n",
    "\n",
    "\n",
    "# 2.Independent variable : Insurance  and Ex-showroom "
   ]
  },
  {
   "cell_type": "code",
   "execution_count": null,
   "id": "178d1e82",
   "metadata": {},
   "outputs": [],
   "source": []
  },
  {
   "cell_type": "code",
   "execution_count": null,
   "id": "0f3fa776",
   "metadata": {},
   "outputs": [],
   "source": []
  },
  {
   "cell_type": "code",
   "execution_count": null,
   "id": "041ad493",
   "metadata": {},
   "outputs": [],
   "source": []
  },
  {
   "cell_type": "markdown",
   "id": "5aa40155",
   "metadata": {},
   "source": [
    "# Preprocessing of data :\n",
    "\n",
    "\n",
    " 1.Outliers check✅    no outliers \n",
    " \n",
    " 2.skewness check✅   data is perfectly Normal distributed \n",
    "  \n",
    " \n",
    " 3. Sclling   ✅ No need of scalling data points are not far from each other\n",
    " \n",
    " \n",
    " \n",
    "  4.cat data encoding \n",
    " \n",
    " 5. Duplictae ✅        no duplicate \n",
    " \n",
    " 6. Null check ✅       no null values"
   ]
  },
  {
   "cell_type": "code",
   "execution_count": 12,
   "id": "1364ad24",
   "metadata": {},
   "outputs": [
    {
     "data": {
      "text/html": [
       "<div>\n",
       "<style scoped>\n",
       "    .dataframe tbody tr th:only-of-type {\n",
       "        vertical-align: middle;\n",
       "    }\n",
       "\n",
       "    .dataframe tbody tr th {\n",
       "        vertical-align: top;\n",
       "    }\n",
       "\n",
       "    .dataframe thead th {\n",
       "        text-align: right;\n",
       "    }\n",
       "</style>\n",
       "<table border=\"1\" class=\"dataframe\">\n",
       "  <thead>\n",
       "    <tr style=\"text-align: right;\">\n",
       "      <th></th>\n",
       "      <th>Version_VESPA</th>\n",
       "      <th>Model</th>\n",
       "      <th>Ex-showroom</th>\n",
       "      <th>Insurance</th>\n",
       "      <th>PDI handling</th>\n",
       "      <th>RTO</th>\n",
       "      <th>ON_Road</th>\n",
       "    </tr>\n",
       "  </thead>\n",
       "  <tbody>\n",
       "    <tr>\n",
       "      <th>0</th>\n",
       "      <td>125cc</td>\n",
       "      <td>ZX</td>\n",
       "      <td>113990</td>\n",
       "      <td>7188</td>\n",
       "      <td>1499</td>\n",
       "      <td>15502</td>\n",
       "      <td>138179</td>\n",
       "    </tr>\n",
       "    <tr>\n",
       "      <th>1</th>\n",
       "      <td>125cc</td>\n",
       "      <td>VXL</td>\n",
       "      <td>128108</td>\n",
       "      <td>7469</td>\n",
       "      <td>1499</td>\n",
       "      <td>17230</td>\n",
       "      <td>154306</td>\n",
       "    </tr>\n",
       "    <tr>\n",
       "      <th>2</th>\n",
       "      <td>125cc</td>\n",
       "      <td>SXL</td>\n",
       "      <td>131984</td>\n",
       "      <td>7544</td>\n",
       "      <td>1499</td>\n",
       "      <td>17705</td>\n",
       "      <td>158732</td>\n",
       "    </tr>\n",
       "    <tr>\n",
       "      <th>3</th>\n",
       "      <td>125cc</td>\n",
       "      <td>SXL Racing_SIXTIES</td>\n",
       "      <td>137805</td>\n",
       "      <td>7660</td>\n",
       "      <td>1499</td>\n",
       "      <td>18417</td>\n",
       "      <td>165381</td>\n",
       "    </tr>\n",
       "    <tr>\n",
       "      <th>4</th>\n",
       "      <td>125cc</td>\n",
       "      <td>75th YELLOW</td>\n",
       "      <td>140500</td>\n",
       "      <td>7713</td>\n",
       "      <td>1499</td>\n",
       "      <td>17197</td>\n",
       "      <td>166909</td>\n",
       "    </tr>\n",
       "    <tr>\n",
       "      <th>5</th>\n",
       "      <td>150cc</td>\n",
       "      <td>VXL</td>\n",
       "      <td>141570</td>\n",
       "      <td>7735</td>\n",
       "      <td>1499</td>\n",
       "      <td>18878</td>\n",
       "      <td>169682</td>\n",
       "    </tr>\n",
       "    <tr>\n",
       "      <th>6</th>\n",
       "      <td>150cc</td>\n",
       "      <td>SXL</td>\n",
       "      <td>145936</td>\n",
       "      <td>7822</td>\n",
       "      <td>1499</td>\n",
       "      <td>19413</td>\n",
       "      <td>174670</td>\n",
       "    </tr>\n",
       "    <tr>\n",
       "      <th>7</th>\n",
       "      <td>150cc</td>\n",
       "      <td>SXL_RACING_SIXTIES</td>\n",
       "      <td>151604</td>\n",
       "      <td>7933</td>\n",
       "      <td>1499</td>\n",
       "      <td>20106</td>\n",
       "      <td>181142</td>\n",
       "    </tr>\n",
       "    <tr>\n",
       "      <th>8</th>\n",
       "      <td>150cc</td>\n",
       "      <td>ELEGANTE</td>\n",
       "      <td>154025</td>\n",
       "      <td>7981</td>\n",
       "      <td>1499</td>\n",
       "      <td>20402</td>\n",
       "      <td>183907</td>\n",
       "    </tr>\n",
       "  </tbody>\n",
       "</table>\n",
       "</div>"
      ],
      "text/plain": [
       "  Version_VESPA               Model  Ex-showroom  Insurance  PDI handling  \\\n",
       "0         125cc                  ZX       113990       7188          1499   \n",
       "1         125cc                 VXL       128108       7469          1499   \n",
       "2         125cc                 SXL       131984       7544          1499   \n",
       "3         125cc  SXL Racing_SIXTIES       137805       7660          1499   \n",
       "4         125cc         75th YELLOW       140500       7713          1499   \n",
       "5         150cc                 VXL       141570       7735          1499   \n",
       "6         150cc                 SXL       145936       7822          1499   \n",
       "7         150cc  SXL_RACING_SIXTIES       151604       7933          1499   \n",
       "8         150cc            ELEGANTE       154025       7981          1499   \n",
       "\n",
       "     RTO  ON_Road  \n",
       "0  15502   138179  \n",
       "1  17230   154306  \n",
       "2  17705   158732  \n",
       "3  18417   165381  \n",
       "4  17197   166909  \n",
       "5  18878   169682  \n",
       "6  19413   174670  \n",
       "7  20106   181142  \n",
       "8  20402   183907  "
      ]
     },
     "execution_count": 12,
     "metadata": {},
     "output_type": "execute_result"
    }
   ],
   "source": [
    "df.drop_duplicates()"
   ]
  },
  {
   "cell_type": "code",
   "execution_count": 13,
   "id": "64358d64",
   "metadata": {},
   "outputs": [
    {
     "data": {
      "text/plain": [
       "(9, 7)"
      ]
     },
     "execution_count": 13,
     "metadata": {},
     "output_type": "execute_result"
    }
   ],
   "source": [
    "df.shape"
   ]
  },
  {
   "cell_type": "code",
   "execution_count": 14,
   "id": "7eb8db2c",
   "metadata": {},
   "outputs": [
    {
     "data": {
      "text/plain": [
       "Version_VESPA    0\n",
       "Model            0\n",
       "Ex-showroom      0\n",
       "Insurance        0\n",
       "PDI handling     0\n",
       "RTO              0\n",
       "ON_Road          0\n",
       "dtype: int64"
      ]
     },
     "execution_count": 14,
     "metadata": {},
     "output_type": "execute_result"
    }
   ],
   "source": [
    "df.isnull().sum()"
   ]
  },
  {
   "cell_type": "code",
   "execution_count": 15,
   "id": "1a18cc27",
   "metadata": {},
   "outputs": [
    {
     "data": {
      "text/plain": [
       "Index(['Version_VESPA', 'Model', 'Ex-showroom', 'Insurance', 'PDI handling',\n",
       "       'RTO', 'ON_Road'],\n",
       "      dtype='object')"
      ]
     },
     "execution_count": 15,
     "metadata": {},
     "output_type": "execute_result"
    }
   ],
   "source": [
    "df.columns"
   ]
  },
  {
   "cell_type": "code",
   "execution_count": 16,
   "id": "3a7d8b05",
   "metadata": {},
   "outputs": [
    {
     "data": {
      "text/plain": [
       "<AxesSubplot:>"
      ]
     },
     "execution_count": 16,
     "metadata": {},
     "output_type": "execute_result"
    },
    {
     "data": {
      "image/png": "[encoded data removed]",
      "text/plain": [
       "<Figure size 432x288 with 1 Axes>"
      ]
     },
     "metadata": {
      "needs_background": "light"
     },
     "output_type": "display_data"
    }
   ],
   "source": [
    "# Outliers \n",
    "\n",
    "\n",
    "\n",
    "sns.boxplot(data=df)"
   ]
  },
  {
   "cell_type": "code",
   "execution_count": 17,
   "id": "6ac7ce74",
   "metadata": {},
   "outputs": [
    {
     "data": {
      "text/plain": [
       "<AxesSubplot:xlabel='Ex-showroom'>"
      ]
     },
     "execution_count": 17,
     "metadata": {},
     "output_type": "execute_result"
    },
    {
     "data": {
      "image/png": "[encoded data removed]",
      "text/plain": [
       "<Figure size 432x288 with 1 Axes>"
      ]
     },
     "metadata": {
      "needs_background": "light"
     },
     "output_type": "display_data"
    }
   ],
   "source": [
    "sns.boxplot(data=df,x=df['Ex-showroom'])"
   ]
  },
  {
   "cell_type": "code",
   "execution_count": 18,
   "id": "028cfc7d",
   "metadata": {},
   "outputs": [
    {
     "data": {
      "text/plain": [
       "<AxesSubplot:xlabel='ON_Road'>"
      ]
     },
     "execution_count": 18,
     "metadata": {},
     "output_type": "execute_result"
    },
    {
     "data": {
      "image/png": "[encoded data removed]",
      "text/plain": [
       "<Figure size 432x288 with 1 Axes>"
      ]
     },
     "metadata": {
      "needs_background": "light"
     },
     "output_type": "display_data"
    }
   ],
   "source": [
    "sns.boxplot(data=df,x=df['ON_Road'])"
   ]
  },
  {
   "cell_type": "code",
   "execution_count": 19,
   "id": "ace477d6",
   "metadata": {},
   "outputs": [],
   "source": [
    "# skewness check:"
   ]
  },
  {
   "cell_type": "code",
   "execution_count": 20,
   "id": "2db0b10f",
   "metadata": {},
   "outputs": [
    {
     "data": {
      "text/plain": [
       "Text(0.5, 1.0, 'On-Road price data distribution  of vaspa ')"
      ]
     },
     "execution_count": 20,
     "metadata": {},
     "output_type": "execute_result"
    },
    {
     "data": {
      "image/png": "[encoded data removed]",
      "text/plain": [
       "<Figure size 432x288 with 1 Axes>"
      ]
     },
     "metadata": {
      "needs_background": "light"
     },
     "output_type": "display_data"
    }
   ],
   "source": [
    "import warnings\n",
    "warnings.filterwarnings('ignore')\n",
    "sns.distplot(df['ON_Road'],color='b')\n",
    "plt.title('On-Road price data distribution  of vaspa ')"
   ]
  },
  {
   "cell_type": "markdown",
   "id": "5725d979",
   "metadata": {},
   "source": [
    "Perfectly normal Distrubted :✅"
   ]
  },
  {
   "cell_type": "code",
   "execution_count": 21,
   "id": "99b6e23b",
   "metadata": {},
   "outputs": [
    {
     "data": {
      "text/plain": [
       "Index(['Version_VESPA', 'Model', 'Ex-showroom', 'Insurance', 'PDI handling',\n",
       "       'RTO', 'ON_Road'],\n",
       "      dtype='object')"
      ]
     },
     "execution_count": 21,
     "metadata": {},
     "output_type": "execute_result"
    }
   ],
   "source": [
    "df.columns"
   ]
  },
  {
   "cell_type": "code",
   "execution_count": 22,
   "id": "09b44970",
   "metadata": {},
   "outputs": [
    {
     "data": {
      "text/plain": [
       "Text(0.5, 1.0, 'Vaspa showroom price  data distribution ')"
      ]
     },
     "execution_count": 22,
     "metadata": {},
     "output_type": "execute_result"
    },
    {
     "data": {
      "image/png": "[encoded data removed]",
      "text/plain": [
       "<Figure size 432x288 with 1 Axes>"
      ]
     },
     "metadata": {
      "needs_background": "light"
     },
     "output_type": "display_data"
    }
   ],
   "source": [
    "import warnings\n",
    "warnings.filterwarnings('ignore')\n",
    "sns.distplot(df['Ex-showroom'],color='yellow')\n",
    "plt.title( 'Vaspa showroom price  data distribution ')"
   ]
  },
  {
   "cell_type": "markdown",
   "id": "d0dd933c",
   "metadata": {},
   "source": [
    "Perfectly normal Distrubted :✅"
   ]
  },
  {
   "cell_type": "code",
   "execution_count": 23,
   "id": "732958ec",
   "metadata": {},
   "outputs": [
    {
     "data": {
      "text/plain": [
       "Text(0.5, 1.0, 'Insurace price data distribution  for Vaspa')"
      ]
     },
     "execution_count": 23,
     "metadata": {},
     "output_type": "execute_result"
    },
    {
     "data": {
      "image/png": "[encoded data removed]",
      "text/plain": [
       "<Figure size 432x288 with 1 Axes>"
      ]
     },
     "metadata": {
      "needs_background": "light"
     },
     "output_type": "display_data"
    }
   ],
   "source": [
    "import warnings \n",
    "warnings.filterwarnings('ignore')\n",
    "sns.distplot(df['Insurance'],color='green')\n",
    "plt.title('Insurace price data distribution  for Vaspa')"
   ]
  },
  {
   "cell_type": "markdown",
   "id": "0ca1c7cf",
   "metadata": {},
   "source": [
    "Perfectly normal Distrubted :✅"
   ]
  },
  {
   "cell_type": "markdown",
   "id": "4b2f2726",
   "metadata": {},
   "source": [
    "# EDA"
   ]
  },
  {
   "cell_type": "code",
   "execution_count": 24,
   "id": "dccac619",
   "metadata": {},
   "outputs": [
    {
     "data": {
      "text/plain": [
       "<seaborn.axisgrid.PairGrid at 0x18b81533d90>"
      ]
     },
     "execution_count": 24,
     "metadata": {},
     "output_type": "execute_result"
    },
    {
     "data": {
      "image/png": "[encoded data removed]",
      "text/plain": [
       "<Figure size 900x900 with 30 Axes>"
      ]
     },
     "metadata": {
      "needs_background": "light"
     },
     "output_type": "display_data"
    }
   ],
   "source": [
    "sns.pairplot(df)"
   ]
  },
  {
   "cell_type": "code",
   "execution_count": 25,
   "id": "1d30223a",
   "metadata": {},
   "outputs": [
    {
     "data": {
      "text/plain": [
       "Index(['Version_VESPA', 'Model', 'Ex-showroom', 'Insurance', 'PDI handling',\n",
       "       'RTO', 'ON_Road'],\n",
       "      dtype='object')"
      ]
     },
     "execution_count": 25,
     "metadata": {},
     "output_type": "execute_result"
    }
   ],
   "source": [
    "df.columns"
   ]
  },
  {
   "cell_type": "code",
   "execution_count": 26,
   "id": "1a5041b7",
   "metadata": {
    "scrolled": true
   },
   "outputs": [
    {
     "data": {
      "text/plain": [
       "<seaborn.axisgrid.JointGrid at 0x18b84279520>"
      ]
     },
     "execution_count": 26,
     "metadata": {},
     "output_type": "execute_result"
    },
    {
     "data": {
      "text/plain": [
       "<Figure size 720x720 with 0 Axes>"
      ]
     },
     "metadata": {},
     "output_type": "display_data"
    },
    {
     "data": {
      "image/png": "[encoded data removed]",
      "text/plain": [
       "<Figure size 432x432 with 3 Axes>"
      ]
     },
     "metadata": {
      "needs_background": "light"
     },
     "output_type": "display_data"
    }
   ],
   "source": [
    "plt.figure(figsize=(10,10))\n",
    "sns.jointplot(x='Ex-showroom',y='Model',data=df,color='r')\n"
   ]
  },
  {
   "cell_type": "code",
   "execution_count": 27,
   "id": "1400a289",
   "metadata": {},
   "outputs": [
    {
     "data": {
      "text/plain": [
       "<seaborn.axisgrid.JointGrid at 0x18b8477f730>"
      ]
     },
     "execution_count": 27,
     "metadata": {},
     "output_type": "execute_result"
    },
    {
     "data": {
      "text/plain": [
       "<Figure size 720x720 with 0 Axes>"
      ]
     },
     "metadata": {},
     "output_type": "display_data"
    },
    {
     "data": {
      "image/png": "[encoded data removed]",
      "text/plain": [
       "<Figure size 432x432 with 3 Axes>"
      ]
     },
     "metadata": {
      "needs_background": "light"
     },
     "output_type": "display_data"
    }
   ],
   "source": [
    "plt.figure(figsize=(10,10))\n",
    "\n",
    "sns.jointplot(x='Insurance',y='Model',data=df,color='green')"
   ]
  },
  {
   "cell_type": "code",
   "execution_count": 28,
   "id": "6d9534ff",
   "metadata": {},
   "outputs": [
    {
     "data": {
      "text/plain": [
       "<seaborn.axisgrid.JointGrid at 0x18b842d7c10>"
      ]
     },
     "execution_count": 28,
     "metadata": {},
     "output_type": "execute_result"
    },
    {
     "data": {
      "text/plain": [
       "<Figure size 720x720 with 0 Axes>"
      ]
     },
     "metadata": {},
     "output_type": "display_data"
    },
    {
     "data": {
      "image/png": "[encoded data removed]",
      "text/plain": [
       "<Figure size 432x432 with 3 Axes>"
      ]
     },
     "metadata": {
      "needs_background": "light"
     },
     "output_type": "display_data"
    }
   ],
   "source": [
    "plt.figure(figsize=(10,10))\n",
    "\n",
    "sns.jointplot(x='ON_Road',y='Model',data=df,color='yellow')"
   ]
  },
  {
   "cell_type": "code",
   "execution_count": 29,
   "id": "e15e02c5",
   "metadata": {},
   "outputs": [
    {
     "data": {
      "text/plain": [
       "<AxesSubplot:ylabel='count'>"
      ]
     },
     "execution_count": 29,
     "metadata": {},
     "output_type": "execute_result"
    },
    {
     "data": {
      "image/png": "[encoded data removed]",
      "text/plain": [
       "<Figure size 432x288 with 1 Axes>"
      ]
     },
     "metadata": {
      "needs_background": "light"
     },
     "output_type": "display_data"
    }
   ],
   "source": [
    "sns.countplot(data=df)"
   ]
  },
  {
   "cell_type": "code",
   "execution_count": 30,
   "id": "396166df",
   "metadata": {},
   "outputs": [],
   "source": [
    "# As it is the Quotation for new scooter :\n",
    "\n",
    "\n",
    "\n",
    "\n",
    "# 1.Dependent variable : On_road \n",
    "\n",
    "\n",
    "# 2.Independent variable : Insurance  and Ex-showroom "
   ]
  },
  {
   "cell_type": "code",
   "execution_count": 31,
   "id": "1ed06f65",
   "metadata": {},
   "outputs": [
    {
     "data": {
      "text/plain": [
       "Index(['Version_VESPA', 'Model', 'Ex-showroom', 'Insurance', 'PDI handling',\n",
       "       'RTO', 'ON_Road'],\n",
       "      dtype='object')"
      ]
     },
     "execution_count": 31,
     "metadata": {},
     "output_type": "execute_result"
    }
   ],
   "source": [
    "df.columns"
   ]
  },
  {
   "cell_type": "code",
   "execution_count": 32,
   "id": "6152a9a5",
   "metadata": {},
   "outputs": [
    {
     "data": {
      "text/plain": [
       "<seaborn.axisgrid.FacetGrid at 0x18b84a17070>"
      ]
     },
     "execution_count": 32,
     "metadata": {},
     "output_type": "execute_result"
    },
    {
     "data": {
      "image/png": "[encoded data removed]",
      "text/plain": [
       "<Figure size 421.5x360 with 1 Axes>"
      ]
     },
     "metadata": {
      "needs_background": "light"
     },
     "output_type": "display_data"
    }
   ],
   "source": [
    "sns.lmplot(x='ON_Road',y='Ex-showroom',hue='Insurance',data=df)"
   ]
  },
  {
   "cell_type": "code",
   "execution_count": null,
   "id": "2c23cf1e",
   "metadata": {},
   "outputs": [],
   "source": []
  },
  {
   "cell_type": "markdown",
   "id": "cca45de0",
   "metadata": {},
   "source": [
    "# SLR"
   ]
  },
  {
   "cell_type": "code",
   "execution_count": 34,
   "id": "99379abf",
   "metadata": {},
   "outputs": [],
   "source": [
    "import pandas as pd\n",
    "import seaborn as sns\n",
    "import numpy as np\n",
    "import matplotlib.pyplot as plt\n"
   ]
  },
  {
   "cell_type": "code",
   "execution_count": 36,
   "id": "5f2e472c",
   "metadata": {},
   "outputs": [],
   "source": [
    "from sklearn.linear_model import LinearRegression\n",
    "from sklearn.metrics import mean_squared_error,r2_score\n",
    "from sklearn.model_selection import train_test_split\n",
    "\n",
    "import warnings\n",
    "warnings.filterwarnings(\"ignore\")"
   ]
  },
  {
   "cell_type": "code",
   "execution_count": 37,
   "id": "67946425",
   "metadata": {},
   "outputs": [],
   "source": [
    "# As it is the Quotation for new scooter :\n",
    "\n",
    "\n",
    "# 1.Dependent variable : On_road \n",
    "\n",
    "\n",
    "# 2.Independent variable : Insurance  and Ex-showroom "
   ]
  },
  {
   "cell_type": "markdown",
   "id": "8d142134",
   "metadata": {},
   "source": [
    "\n",
    "# y :: Dependent var   = On_road price \n",
    "\n",
    "# x ::  Independent var.1 = Insurance\n",
    "\n",
    "# Independent var.2= EX-showroom"
   ]
  },
  {
   "cell_type": "code",
   "execution_count": null,
   "id": "1e51a2c2",
   "metadata": {},
   "outputs": [],
   "source": []
  },
  {
   "cell_type": "code",
   "execution_count": 39,
   "id": "d0965b70",
   "metadata": {},
   "outputs": [
    {
     "data": {
      "text/plain": [
       "Index(['Version_VESPA', 'Model', 'Ex-showroom', 'Insurance', 'PDI handling',\n",
       "       'RTO', 'ON_Road'],\n",
       "      dtype='object')"
      ]
     },
     "execution_count": 39,
     "metadata": {},
     "output_type": "execute_result"
    }
   ],
   "source": [
    "df.columns"
   ]
  },
  {
   "cell_type": "code",
   "execution_count": null,
   "id": "7a14a979",
   "metadata": {},
   "outputs": [],
   "source": [
    "# Model trainning:\n",
    "\n",
    "A=df[['ON_Road']]         #   y   Dependent var\n",
    "\n",
    "B=df[['Insurance']]       #   x   Independent var"
   ]
  },
  {
   "cell_type": "code",
   "execution_count": 42,
   "id": "c10b7fdf",
   "metadata": {},
   "outputs": [],
   "source": [
    " # Split Train and test ::"
   ]
  },
  {
   "cell_type": "code",
   "execution_count": 43,
   "id": "67cd15c7",
   "metadata": {},
   "outputs": [],
   "source": [
    "A_train,A_test,B_train,B_test=train_test_split(A,B,test_size=0.20,random_state=0)\n",
    "\n"
   ]
  },
  {
   "cell_type": "code",
   "execution_count": 44,
   "id": "18451f7f",
   "metadata": {},
   "outputs": [],
   "source": [
    "reg=LinearRegression()"
   ]
  },
  {
   "cell_type": "code",
   "execution_count": 45,
   "id": "4a9a6843",
   "metadata": {},
   "outputs": [
    {
     "data": {
      "text/plain": [
       "LinearRegression()"
      ]
     },
     "execution_count": 45,
     "metadata": {},
     "output_type": "execute_result"
    }
   ],
   "source": [
    "#Deployment :\n",
    "\n",
    "\n",
    "model=reg.fit(A_train,B_train)\n",
    "model"
   ]
  },
  {
   "cell_type": "code",
   "execution_count": 46,
   "id": "84c07daa",
   "metadata": {},
   "outputs": [
    {
     "data": {
      "text/plain": [
       "((7, 1), (2, 1))"
      ]
     },
     "execution_count": 46,
     "metadata": {},
     "output_type": "execute_result"
    }
   ],
   "source": [
    "A_train.shape,A_test.shape"
   ]
  },
  {
   "cell_type": "code",
   "execution_count": 47,
   "id": "8fd7a999",
   "metadata": {},
   "outputs": [
    {
     "data": {
      "text/plain": [
       "((7, 1), (2, 1))"
      ]
     },
     "execution_count": 47,
     "metadata": {},
     "output_type": "execute_result"
    }
   ],
   "source": [
    "B_train.shape,B_test.shape"
   ]
  },
  {
   "cell_type": "code",
   "execution_count": null,
   "id": "ae1dd482",
   "metadata": {},
   "outputs": [],
   "source": []
  },
  {
   "cell_type": "code",
   "execution_count": null,
   "id": "933dbbec",
   "metadata": {},
   "outputs": [],
   "source": []
  },
  {
   "cell_type": "code",
   "execution_count": 48,
   "id": "300ca9c3",
   "metadata": {},
   "outputs": [],
   "source": [
    "# Y=mx+c"
   ]
  },
  {
   "cell_type": "code",
   "execution_count": 49,
   "id": "d3233c14",
   "metadata": {},
   "outputs": [
    {
     "data": {
      "text/plain": [
       "array([4788.50258245])"
      ]
     },
     "execution_count": 49,
     "metadata": {},
     "output_type": "execute_result"
    }
   ],
   "source": [
    "# c\n",
    "\n",
    "model.intercept_"
   ]
  },
  {
   "cell_type": "code",
   "execution_count": 54,
   "id": "1b3bc977",
   "metadata": {},
   "outputs": [
    {
     "data": {
      "text/plain": [
       "array([4788.50258245])"
      ]
     },
     "execution_count": 54,
     "metadata": {},
     "output_type": "execute_result"
    }
   ],
   "source": [
    "intercept=model.intercept_\n",
    "intercept"
   ]
  },
  {
   "cell_type": "code",
   "execution_count": 55,
   "id": "b21b0d57",
   "metadata": {},
   "outputs": [
    {
     "data": {
      "text/plain": [
       "array([[0.01738759]])"
      ]
     },
     "execution_count": 55,
     "metadata": {},
     "output_type": "execute_result"
    }
   ],
   "source": [
    "model.coef_"
   ]
  },
  {
   "cell_type": "code",
   "execution_count": 56,
   "id": "306c4267",
   "metadata": {},
   "outputs": [
    {
     "data": {
      "text/plain": [
       "array([[0.01738759]])"
      ]
     },
     "execution_count": 56,
     "metadata": {},
     "output_type": "execute_result"
    }
   ],
   "source": [
    "coef=model.coef_\n",
    "coef"
   ]
  },
  {
   "cell_type": "code",
   "execution_count": 57,
   "id": "9244a999",
   "metadata": {},
   "outputs": [
    {
     "data": {
      "text/plain": [
       "0.9985196690948854"
      ]
     },
     "execution_count": 57,
     "metadata": {},
     "output_type": "execute_result"
    }
   ],
   "source": [
    "# Cecking Model Accuracy\n",
    "\n",
    "\n",
    "model.score(A_train,B_train)"
   ]
  },
  {
   "cell_type": "markdown",
   "id": "5f3df275",
   "metadata": {},
   "source": [
    "# 99% correct ✅"
   ]
  },
  {
   "cell_type": "markdown",
   "id": "a0952897",
   "metadata": {},
   "source": [
    "A=df[['ON_Road']]         #   y   Dependent var\n",
    "\n",
    "B=df[['Insurance']]       #   x   Independent var"
   ]
  },
  {
   "cell_type": "code",
   "execution_count": 58,
   "id": "b442ce9e",
   "metadata": {},
   "outputs": [
    {
     "data": {
      "text/plain": [
       "'ON_Road=[4788.50258245]+Insurance*[[0.01738759]]'"
      ]
     },
     "execution_count": 58,
     "metadata": {},
     "output_type": "execute_result"
    }
   ],
   "source": [
    "equation='ON_Road='+str(intercept)+'+Insurance*'+str(coef)\n",
    "equation"
   ]
  },
  {
   "cell_type": "code",
   "execution_count": 59,
   "id": "b1c98d1b",
   "metadata": {},
   "outputs": [],
   "source": [
    "p_pred=model.predict(A_test)  "
   ]
  },
  {
   "cell_type": "code",
   "execution_count": 62,
   "id": "14e814b7",
   "metadata": {},
   "outputs": [
    {
     "data": {
      "text/plain": [
       "array([[7938.12532772],\n",
       "       [7548.46944603]])"
      ]
     },
     "execution_count": 62,
     "metadata": {},
     "output_type": "execute_result"
    }
   ],
   "source": [
    "p_pred"
   ]
  },
  {
   "cell_type": "code",
   "execution_count": 63,
   "id": "65b3466e",
   "metadata": {},
   "outputs": [
    {
     "data": {
      "text/plain": [
       "[<matplotlib.lines.Line2D at 0x18b881b0fa0>]"
      ]
     },
     "execution_count": 63,
     "metadata": {},
     "output_type": "execute_result"
    },
    {
     "data": {
      "image/png": "[encoded data removed]",
      "text/plain": [
       "<Figure size 432x288 with 1 Axes>"
      ]
     },
     "metadata": {
      "needs_background": "light"
     },
     "output_type": "display_data"
    }
   ],
   "source": [
    "plt.scatter(np.array(A_test),B_test,color='blue')\n",
    "plt.plot(np.array(A_test),np.array(p_pred),color='red',linewidth=3)"
   ]
  },
  {
   "cell_type": "code",
   "execution_count": 102,
   "id": "7aa3db16",
   "metadata": {},
   "outputs": [
    {
     "data": {
      "text/html": [
       "<div>\n",
       "<style scoped>\n",
       "    .dataframe tbody tr th:only-of-type {\n",
       "        vertical-align: middle;\n",
       "    }\n",
       "\n",
       "    .dataframe tbody tr th {\n",
       "        vertical-align: top;\n",
       "    }\n",
       "\n",
       "    .dataframe thead th {\n",
       "        text-align: right;\n",
       "    }\n",
       "</style>\n",
       "<table border=\"1\" class=\"dataframe\">\n",
       "  <thead>\n",
       "    <tr style=\"text-align: right;\">\n",
       "      <th></th>\n",
       "      <th>Version_VESPA</th>\n",
       "      <th>Model</th>\n",
       "      <th>Ex-showroom</th>\n",
       "      <th>Insurance</th>\n",
       "      <th>PDI handling</th>\n",
       "      <th>RTO</th>\n",
       "      <th>ON_Road</th>\n",
       "    </tr>\n",
       "  </thead>\n",
       "  <tbody>\n",
       "    <tr>\n",
       "      <th>0</th>\n",
       "      <td>125cc</td>\n",
       "      <td>ZX</td>\n",
       "      <td>113990</td>\n",
       "      <td>7188</td>\n",
       "      <td>1499</td>\n",
       "      <td>15502</td>\n",
       "      <td>138179</td>\n",
       "    </tr>\n",
       "    <tr>\n",
       "      <th>1</th>\n",
       "      <td>125cc</td>\n",
       "      <td>VXL</td>\n",
       "      <td>128108</td>\n",
       "      <td>7469</td>\n",
       "      <td>1499</td>\n",
       "      <td>17230</td>\n",
       "      <td>154306</td>\n",
       "    </tr>\n",
       "    <tr>\n",
       "      <th>2</th>\n",
       "      <td>125cc</td>\n",
       "      <td>SXL</td>\n",
       "      <td>131984</td>\n",
       "      <td>7544</td>\n",
       "      <td>1499</td>\n",
       "      <td>17705</td>\n",
       "      <td>158732</td>\n",
       "    </tr>\n",
       "    <tr>\n",
       "      <th>3</th>\n",
       "      <td>125cc</td>\n",
       "      <td>SXL Racing_SIXTIES</td>\n",
       "      <td>137805</td>\n",
       "      <td>7660</td>\n",
       "      <td>1499</td>\n",
       "      <td>18417</td>\n",
       "      <td>165381</td>\n",
       "    </tr>\n",
       "    <tr>\n",
       "      <th>4</th>\n",
       "      <td>125cc</td>\n",
       "      <td>75th YELLOW</td>\n",
       "      <td>140500</td>\n",
       "      <td>7713</td>\n",
       "      <td>1499</td>\n",
       "      <td>17197</td>\n",
       "      <td>166909</td>\n",
       "    </tr>\n",
       "    <tr>\n",
       "      <th>5</th>\n",
       "      <td>150cc</td>\n",
       "      <td>VXL</td>\n",
       "      <td>141570</td>\n",
       "      <td>7735</td>\n",
       "      <td>1499</td>\n",
       "      <td>18878</td>\n",
       "      <td>169682</td>\n",
       "    </tr>\n",
       "    <tr>\n",
       "      <th>6</th>\n",
       "      <td>150cc</td>\n",
       "      <td>SXL</td>\n",
       "      <td>145936</td>\n",
       "      <td>7822</td>\n",
       "      <td>1499</td>\n",
       "      <td>19413</td>\n",
       "      <td>174670</td>\n",
       "    </tr>\n",
       "    <tr>\n",
       "      <th>7</th>\n",
       "      <td>150cc</td>\n",
       "      <td>SXL_RACING_SIXTIES</td>\n",
       "      <td>151604</td>\n",
       "      <td>7933</td>\n",
       "      <td>1499</td>\n",
       "      <td>20106</td>\n",
       "      <td>181142</td>\n",
       "    </tr>\n",
       "    <tr>\n",
       "      <th>8</th>\n",
       "      <td>150cc</td>\n",
       "      <td>ELEGANTE</td>\n",
       "      <td>154025</td>\n",
       "      <td>7981</td>\n",
       "      <td>1499</td>\n",
       "      <td>20402</td>\n",
       "      <td>183907</td>\n",
       "    </tr>\n",
       "  </tbody>\n",
       "</table>\n",
       "</div>"
      ],
      "text/plain": [
       "  Version_VESPA               Model  Ex-showroom  Insurance  PDI handling  \\\n",
       "0         125cc                  ZX       113990       7188          1499   \n",
       "1         125cc                 VXL       128108       7469          1499   \n",
       "2         125cc                 SXL       131984       7544          1499   \n",
       "3         125cc  SXL Racing_SIXTIES       137805       7660          1499   \n",
       "4         125cc         75th YELLOW       140500       7713          1499   \n",
       "5         150cc                 VXL       141570       7735          1499   \n",
       "6         150cc                 SXL       145936       7822          1499   \n",
       "7         150cc  SXL_RACING_SIXTIES       151604       7933          1499   \n",
       "8         150cc            ELEGANTE       154025       7981          1499   \n",
       "\n",
       "     RTO  ON_Road  \n",
       "0  15502   138179  \n",
       "1  17230   154306  \n",
       "2  17705   158732  \n",
       "3  18417   165381  \n",
       "4  17197   166909  \n",
       "5  18878   169682  \n",
       "6  19413   174670  \n",
       "7  20106   181142  \n",
       "8  20402   183907  "
      ]
     },
     "execution_count": 102,
     "metadata": {},
     "output_type": "execute_result"
    }
   ],
   "source": [
    "df"
   ]
  },
  {
   "cell_type": "code",
   "execution_count": null,
   "id": "77ec4c57",
   "metadata": {},
   "outputs": [],
   "source": []
  },
  {
   "cell_type": "code",
   "execution_count": null,
   "id": "94c5de7a",
   "metadata": {},
   "outputs": [],
   "source": [
    "# Creating new database  for Aprila model : Quotation given in  by showroom :\n",
    "\n"
   ]
  },
  {
   "cell_type": "code",
   "execution_count": 103,
   "id": "cb498684",
   "metadata": {},
   "outputs": [],
   "source": [
    "Data={'Ap_CC':['125','125','160','160','160','160'],\n",
    "     'Model':['SR-125RST','SXR-125','SR160-ABS','SR160-Carbon','SR160-Race','SXR160'],\n",
    "     'Ex-show':[120080,130275,128978,131489,138230,141391],\n",
    "     'Insurance':[7311,7511,11760,11812,11953,12018],\n",
    "     'Pdi':[1499,1499,1499,1499,1499,1499],\n",
    "     'RTO':[16248,17496,17336,17644,18469,18856],\n",
    "     'On_Road':[141538,156781,159573,162444,170151,173764]}"
   ]
  },
  {
   "cell_type": "code",
   "execution_count": 105,
   "id": "971656c3",
   "metadata": {},
   "outputs": [],
   "source": [
    "da=pd.DataFrame(Data)"
   ]
  },
  {
   "cell_type": "code",
   "execution_count": 106,
   "id": "c2c8d542",
   "metadata": {},
   "outputs": [
    {
     "data": {
      "text/html": [
       "<div>\n",
       "<style scoped>\n",
       "    .dataframe tbody tr th:only-of-type {\n",
       "        vertical-align: middle;\n",
       "    }\n",
       "\n",
       "    .dataframe tbody tr th {\n",
       "        vertical-align: top;\n",
       "    }\n",
       "\n",
       "    .dataframe thead th {\n",
       "        text-align: right;\n",
       "    }\n",
       "</style>\n",
       "<table border=\"1\" class=\"dataframe\">\n",
       "  <thead>\n",
       "    <tr style=\"text-align: right;\">\n",
       "      <th></th>\n",
       "      <th>Ap_CC</th>\n",
       "      <th>Model</th>\n",
       "      <th>Ex-show</th>\n",
       "      <th>Insurance</th>\n",
       "      <th>Pdi</th>\n",
       "      <th>RTO</th>\n",
       "      <th>On_Road</th>\n",
       "    </tr>\n",
       "  </thead>\n",
       "  <tbody>\n",
       "    <tr>\n",
       "      <th>0</th>\n",
       "      <td>125</td>\n",
       "      <td>SR-125RST</td>\n",
       "      <td>120080</td>\n",
       "      <td>7311</td>\n",
       "      <td>1499</td>\n",
       "      <td>16248</td>\n",
       "      <td>141538</td>\n",
       "    </tr>\n",
       "    <tr>\n",
       "      <th>1</th>\n",
       "      <td>125</td>\n",
       "      <td>SXR-125</td>\n",
       "      <td>130275</td>\n",
       "      <td>7511</td>\n",
       "      <td>1499</td>\n",
       "      <td>17496</td>\n",
       "      <td>156781</td>\n",
       "    </tr>\n",
       "    <tr>\n",
       "      <th>2</th>\n",
       "      <td>160</td>\n",
       "      <td>SR160-ABS</td>\n",
       "      <td>128978</td>\n",
       "      <td>11760</td>\n",
       "      <td>1499</td>\n",
       "      <td>17336</td>\n",
       "      <td>159573</td>\n",
       "    </tr>\n",
       "    <tr>\n",
       "      <th>3</th>\n",
       "      <td>160</td>\n",
       "      <td>SR160-Carbon</td>\n",
       "      <td>131489</td>\n",
       "      <td>11812</td>\n",
       "      <td>1499</td>\n",
       "      <td>17644</td>\n",
       "      <td>162444</td>\n",
       "    </tr>\n",
       "    <tr>\n",
       "      <th>4</th>\n",
       "      <td>160</td>\n",
       "      <td>SR160-Race</td>\n",
       "      <td>138230</td>\n",
       "      <td>11953</td>\n",
       "      <td>1499</td>\n",
       "      <td>18469</td>\n",
       "      <td>170151</td>\n",
       "    </tr>\n",
       "    <tr>\n",
       "      <th>5</th>\n",
       "      <td>160</td>\n",
       "      <td>SXR160</td>\n",
       "      <td>141391</td>\n",
       "      <td>12018</td>\n",
       "      <td>1499</td>\n",
       "      <td>18856</td>\n",
       "      <td>173764</td>\n",
       "    </tr>\n",
       "  </tbody>\n",
       "</table>\n",
       "</div>"
      ],
      "text/plain": [
       "  Ap_CC         Model  Ex-show  Insurance   Pdi    RTO  On_Road\n",
       "0   125     SR-125RST   120080       7311  1499  16248   141538\n",
       "1   125       SXR-125   130275       7511  1499  17496   156781\n",
       "2   160     SR160-ABS   128978      11760  1499  17336   159573\n",
       "3   160  SR160-Carbon   131489      11812  1499  17644   162444\n",
       "4   160    SR160-Race   138230      11953  1499  18469   170151\n",
       "5   160        SXR160   141391      12018  1499  18856   173764"
      ]
     },
     "execution_count": 106,
     "metadata": {},
     "output_type": "execute_result"
    }
   ],
   "source": [
    "da"
   ]
  },
  {
   "cell_type": "code",
   "execution_count": 108,
   "id": "bfdc8ad5",
   "metadata": {},
   "outputs": [
    {
     "data": {
      "text/plain": [
       "(6, 7)"
      ]
     },
     "execution_count": 108,
     "metadata": {},
     "output_type": "execute_result"
    }
   ],
   "source": [
    "da.shape"
   ]
  },
  {
   "cell_type": "code",
   "execution_count": 109,
   "id": "a4eead06",
   "metadata": {},
   "outputs": [
    {
     "data": {
      "text/html": [
       "<div>\n",
       "<style scoped>\n",
       "    .dataframe tbody tr th:only-of-type {\n",
       "        vertical-align: middle;\n",
       "    }\n",
       "\n",
       "    .dataframe tbody tr th {\n",
       "        vertical-align: top;\n",
       "    }\n",
       "\n",
       "    .dataframe thead th {\n",
       "        text-align: right;\n",
       "    }\n",
       "</style>\n",
       "<table border=\"1\" class=\"dataframe\">\n",
       "  <thead>\n",
       "    <tr style=\"text-align: right;\">\n",
       "      <th></th>\n",
       "      <th>Ex-show</th>\n",
       "      <th>Insurance</th>\n",
       "      <th>Pdi</th>\n",
       "      <th>RTO</th>\n",
       "      <th>On_Road</th>\n",
       "    </tr>\n",
       "  </thead>\n",
       "  <tbody>\n",
       "    <tr>\n",
       "      <th>count</th>\n",
       "      <td>6.000000</td>\n",
       "      <td>6.000000</td>\n",
       "      <td>6.0</td>\n",
       "      <td>6.000000</td>\n",
       "      <td>6.000000</td>\n",
       "    </tr>\n",
       "    <tr>\n",
       "      <th>mean</th>\n",
       "      <td>131740.500000</td>\n",
       "      <td>10394.166667</td>\n",
       "      <td>1499.0</td>\n",
       "      <td>17674.833333</td>\n",
       "      <td>160708.500000</td>\n",
       "    </tr>\n",
       "    <tr>\n",
       "      <th>std</th>\n",
       "      <td>7497.404478</td>\n",
       "      <td>2313.487187</td>\n",
       "      <td>0.0</td>\n",
       "      <td>917.545512</td>\n",
       "      <td>11374.018934</td>\n",
       "    </tr>\n",
       "    <tr>\n",
       "      <th>min</th>\n",
       "      <td>120080.000000</td>\n",
       "      <td>7311.000000</td>\n",
       "      <td>1499.0</td>\n",
       "      <td>16248.000000</td>\n",
       "      <td>141538.000000</td>\n",
       "    </tr>\n",
       "    <tr>\n",
       "      <th>25%</th>\n",
       "      <td>129302.250000</td>\n",
       "      <td>8573.250000</td>\n",
       "      <td>1499.0</td>\n",
       "      <td>17376.000000</td>\n",
       "      <td>157479.000000</td>\n",
       "    </tr>\n",
       "    <tr>\n",
       "      <th>50%</th>\n",
       "      <td>130882.000000</td>\n",
       "      <td>11786.000000</td>\n",
       "      <td>1499.0</td>\n",
       "      <td>17570.000000</td>\n",
       "      <td>161008.500000</td>\n",
       "    </tr>\n",
       "    <tr>\n",
       "      <th>75%</th>\n",
       "      <td>136544.750000</td>\n",
       "      <td>11917.750000</td>\n",
       "      <td>1499.0</td>\n",
       "      <td>18262.750000</td>\n",
       "      <td>168224.250000</td>\n",
       "    </tr>\n",
       "    <tr>\n",
       "      <th>max</th>\n",
       "      <td>141391.000000</td>\n",
       "      <td>12018.000000</td>\n",
       "      <td>1499.0</td>\n",
       "      <td>18856.000000</td>\n",
       "      <td>173764.000000</td>\n",
       "    </tr>\n",
       "  </tbody>\n",
       "</table>\n",
       "</div>"
      ],
      "text/plain": [
       "             Ex-show     Insurance     Pdi           RTO        On_Road\n",
       "count       6.000000      6.000000     6.0      6.000000       6.000000\n",
       "mean   131740.500000  10394.166667  1499.0  17674.833333  160708.500000\n",
       "std      7497.404478   2313.487187     0.0    917.545512   11374.018934\n",
       "min    120080.000000   7311.000000  1499.0  16248.000000  141538.000000\n",
       "25%    129302.250000   8573.250000  1499.0  17376.000000  157479.000000\n",
       "50%    130882.000000  11786.000000  1499.0  17570.000000  161008.500000\n",
       "75%    136544.750000  11917.750000  1499.0  18262.750000  168224.250000\n",
       "max    141391.000000  12018.000000  1499.0  18856.000000  173764.000000"
      ]
     },
     "execution_count": 109,
     "metadata": {},
     "output_type": "execute_result"
    }
   ],
   "source": [
    "da.describe()"
   ]
  },
  {
   "cell_type": "code",
   "execution_count": 110,
   "id": "0a941f99",
   "metadata": {},
   "outputs": [
    {
     "data": {
      "text/plain": [
       "Ap_CC        6\n",
       "Model        6\n",
       "Ex-show      6\n",
       "Insurance    6\n",
       "Pdi          6\n",
       "RTO          6\n",
       "On_Road      6\n",
       "dtype: int64"
      ]
     },
     "execution_count": 110,
     "metadata": {},
     "output_type": "execute_result"
    }
   ],
   "source": [
    "da.count()"
   ]
  },
  {
   "cell_type": "code",
   "execution_count": 115,
   "id": "d9857276",
   "metadata": {},
   "outputs": [
    {
     "data": {
      "text/html": [
       "<div>\n",
       "<style scoped>\n",
       "    .dataframe tbody tr th:only-of-type {\n",
       "        vertical-align: middle;\n",
       "    }\n",
       "\n",
       "    .dataframe tbody tr th {\n",
       "        vertical-align: top;\n",
       "    }\n",
       "\n",
       "    .dataframe thead th {\n",
       "        text-align: right;\n",
       "    }\n",
       "</style>\n",
       "<table border=\"1\" class=\"dataframe\">\n",
       "  <thead>\n",
       "    <tr style=\"text-align: right;\">\n",
       "      <th></th>\n",
       "      <th>Ap_CC</th>\n",
       "      <th>Model</th>\n",
       "      <th>Ex-show</th>\n",
       "      <th>Insurance</th>\n",
       "      <th>Pdi</th>\n",
       "      <th>RTO</th>\n",
       "      <th>On_Road</th>\n",
       "    </tr>\n",
       "  </thead>\n",
       "  <tbody>\n",
       "    <tr>\n",
       "      <th>0</th>\n",
       "      <td>False</td>\n",
       "      <td>False</td>\n",
       "      <td>False</td>\n",
       "      <td>False</td>\n",
       "      <td>False</td>\n",
       "      <td>False</td>\n",
       "      <td>False</td>\n",
       "    </tr>\n",
       "    <tr>\n",
       "      <th>1</th>\n",
       "      <td>False</td>\n",
       "      <td>False</td>\n",
       "      <td>False</td>\n",
       "      <td>False</td>\n",
       "      <td>False</td>\n",
       "      <td>False</td>\n",
       "      <td>False</td>\n",
       "    </tr>\n",
       "    <tr>\n",
       "      <th>2</th>\n",
       "      <td>False</td>\n",
       "      <td>False</td>\n",
       "      <td>False</td>\n",
       "      <td>False</td>\n",
       "      <td>False</td>\n",
       "      <td>False</td>\n",
       "      <td>False</td>\n",
       "    </tr>\n",
       "    <tr>\n",
       "      <th>3</th>\n",
       "      <td>False</td>\n",
       "      <td>False</td>\n",
       "      <td>False</td>\n",
       "      <td>False</td>\n",
       "      <td>False</td>\n",
       "      <td>False</td>\n",
       "      <td>False</td>\n",
       "    </tr>\n",
       "    <tr>\n",
       "      <th>4</th>\n",
       "      <td>False</td>\n",
       "      <td>False</td>\n",
       "      <td>False</td>\n",
       "      <td>False</td>\n",
       "      <td>False</td>\n",
       "      <td>False</td>\n",
       "      <td>False</td>\n",
       "    </tr>\n",
       "    <tr>\n",
       "      <th>5</th>\n",
       "      <td>False</td>\n",
       "      <td>False</td>\n",
       "      <td>False</td>\n",
       "      <td>False</td>\n",
       "      <td>False</td>\n",
       "      <td>False</td>\n",
       "      <td>False</td>\n",
       "    </tr>\n",
       "  </tbody>\n",
       "</table>\n",
       "</div>"
      ],
      "text/plain": [
       "   Ap_CC  Model  Ex-show  Insurance    Pdi    RTO  On_Road\n",
       "0  False  False    False      False  False  False    False\n",
       "1  False  False    False      False  False  False    False\n",
       "2  False  False    False      False  False  False    False\n",
       "3  False  False    False      False  False  False    False\n",
       "4  False  False    False      False  False  False    False\n",
       "5  False  False    False      False  False  False    False"
      ]
     },
     "execution_count": 115,
     "metadata": {},
     "output_type": "execute_result"
    }
   ],
   "source": [
    "da.isnull()"
   ]
  },
  {
   "cell_type": "code",
   "execution_count": 116,
   "id": "b00c0e1c",
   "metadata": {},
   "outputs": [
    {
     "data": {
      "text/html": [
       "<div>\n",
       "<style scoped>\n",
       "    .dataframe tbody tr th:only-of-type {\n",
       "        vertical-align: middle;\n",
       "    }\n",
       "\n",
       "    .dataframe tbody tr th {\n",
       "        vertical-align: top;\n",
       "    }\n",
       "\n",
       "    .dataframe thead th {\n",
       "        text-align: right;\n",
       "    }\n",
       "</style>\n",
       "<table border=\"1\" class=\"dataframe\">\n",
       "  <thead>\n",
       "    <tr style=\"text-align: right;\">\n",
       "      <th></th>\n",
       "      <th>Ex-show</th>\n",
       "      <th>Insurance</th>\n",
       "      <th>Pdi</th>\n",
       "      <th>RTO</th>\n",
       "      <th>On_Road</th>\n",
       "    </tr>\n",
       "  </thead>\n",
       "  <tbody>\n",
       "    <tr>\n",
       "      <th>count</th>\n",
       "      <td>6.000000</td>\n",
       "      <td>6.000000</td>\n",
       "      <td>6.0</td>\n",
       "      <td>6.000000</td>\n",
       "      <td>6.000000</td>\n",
       "    </tr>\n",
       "    <tr>\n",
       "      <th>mean</th>\n",
       "      <td>131740.500000</td>\n",
       "      <td>10394.166667</td>\n",
       "      <td>1499.0</td>\n",
       "      <td>17674.833333</td>\n",
       "      <td>160708.500000</td>\n",
       "    </tr>\n",
       "    <tr>\n",
       "      <th>std</th>\n",
       "      <td>7497.404478</td>\n",
       "      <td>2313.487187</td>\n",
       "      <td>0.0</td>\n",
       "      <td>917.545512</td>\n",
       "      <td>11374.018934</td>\n",
       "    </tr>\n",
       "    <tr>\n",
       "      <th>min</th>\n",
       "      <td>120080.000000</td>\n",
       "      <td>7311.000000</td>\n",
       "      <td>1499.0</td>\n",
       "      <td>16248.000000</td>\n",
       "      <td>141538.000000</td>\n",
       "    </tr>\n",
       "    <tr>\n",
       "      <th>25%</th>\n",
       "      <td>129302.250000</td>\n",
       "      <td>8573.250000</td>\n",
       "      <td>1499.0</td>\n",
       "      <td>17376.000000</td>\n",
       "      <td>157479.000000</td>\n",
       "    </tr>\n",
       "    <tr>\n",
       "      <th>50%</th>\n",
       "      <td>130882.000000</td>\n",
       "      <td>11786.000000</td>\n",
       "      <td>1499.0</td>\n",
       "      <td>17570.000000</td>\n",
       "      <td>161008.500000</td>\n",
       "    </tr>\n",
       "    <tr>\n",
       "      <th>75%</th>\n",
       "      <td>136544.750000</td>\n",
       "      <td>11917.750000</td>\n",
       "      <td>1499.0</td>\n",
       "      <td>18262.750000</td>\n",
       "      <td>168224.250000</td>\n",
       "    </tr>\n",
       "    <tr>\n",
       "      <th>max</th>\n",
       "      <td>141391.000000</td>\n",
       "      <td>12018.000000</td>\n",
       "      <td>1499.0</td>\n",
       "      <td>18856.000000</td>\n",
       "      <td>173764.000000</td>\n",
       "    </tr>\n",
       "  </tbody>\n",
       "</table>\n",
       "</div>"
      ],
      "text/plain": [
       "             Ex-show     Insurance     Pdi           RTO        On_Road\n",
       "count       6.000000      6.000000     6.0      6.000000       6.000000\n",
       "mean   131740.500000  10394.166667  1499.0  17674.833333  160708.500000\n",
       "std      7497.404478   2313.487187     0.0    917.545512   11374.018934\n",
       "min    120080.000000   7311.000000  1499.0  16248.000000  141538.000000\n",
       "25%    129302.250000   8573.250000  1499.0  17376.000000  157479.000000\n",
       "50%    130882.000000  11786.000000  1499.0  17570.000000  161008.500000\n",
       "75%    136544.750000  11917.750000  1499.0  18262.750000  168224.250000\n",
       "max    141391.000000  12018.000000  1499.0  18856.000000  173764.000000"
      ]
     },
     "execution_count": 116,
     "metadata": {},
     "output_type": "execute_result"
    }
   ],
   "source": [
    "da.describe()"
   ]
  },
  {
   "cell_type": "code",
   "execution_count": 117,
   "id": "3d79b1ef",
   "metadata": {},
   "outputs": [
    {
     "data": {
      "text/html": [
       "<div>\n",
       "<style scoped>\n",
       "    .dataframe tbody tr th:only-of-type {\n",
       "        vertical-align: middle;\n",
       "    }\n",
       "\n",
       "    .dataframe tbody tr th {\n",
       "        vertical-align: top;\n",
       "    }\n",
       "\n",
       "    .dataframe thead th {\n",
       "        text-align: right;\n",
       "    }\n",
       "</style>\n",
       "<table border=\"1\" class=\"dataframe\">\n",
       "  <thead>\n",
       "    <tr style=\"text-align: right;\">\n",
       "      <th></th>\n",
       "      <th>Ex-show</th>\n",
       "      <th>Insurance</th>\n",
       "      <th>Pdi</th>\n",
       "      <th>RTO</th>\n",
       "      <th>On_Road</th>\n",
       "    </tr>\n",
       "  </thead>\n",
       "  <tbody>\n",
       "    <tr>\n",
       "      <th>Ex-show</th>\n",
       "      <td>1.000000</td>\n",
       "      <td>0.712980</td>\n",
       "      <td>NaN</td>\n",
       "      <td>1.000000</td>\n",
       "      <td>0.983312</td>\n",
       "    </tr>\n",
       "    <tr>\n",
       "      <th>Insurance</th>\n",
       "      <td>0.712980</td>\n",
       "      <td>1.000000</td>\n",
       "      <td>NaN</td>\n",
       "      <td>0.712691</td>\n",
       "      <td>0.815231</td>\n",
       "    </tr>\n",
       "    <tr>\n",
       "      <th>Pdi</th>\n",
       "      <td>NaN</td>\n",
       "      <td>NaN</td>\n",
       "      <td>NaN</td>\n",
       "      <td>NaN</td>\n",
       "      <td>NaN</td>\n",
       "    </tr>\n",
       "    <tr>\n",
       "      <th>RTO</th>\n",
       "      <td>1.000000</td>\n",
       "      <td>0.712691</td>\n",
       "      <td>NaN</td>\n",
       "      <td>1.000000</td>\n",
       "      <td>0.983240</td>\n",
       "    </tr>\n",
       "    <tr>\n",
       "      <th>On_Road</th>\n",
       "      <td>0.983312</td>\n",
       "      <td>0.815231</td>\n",
       "      <td>NaN</td>\n",
       "      <td>0.983240</td>\n",
       "      <td>1.000000</td>\n",
       "    </tr>\n",
       "  </tbody>\n",
       "</table>\n",
       "</div>"
      ],
      "text/plain": [
       "            Ex-show  Insurance  Pdi       RTO   On_Road\n",
       "Ex-show    1.000000   0.712980  NaN  1.000000  0.983312\n",
       "Insurance  0.712980   1.000000  NaN  0.712691  0.815231\n",
       "Pdi             NaN        NaN  NaN       NaN       NaN\n",
       "RTO        1.000000   0.712691  NaN  1.000000  0.983240\n",
       "On_Road    0.983312   0.815231  NaN  0.983240  1.000000"
      ]
     },
     "execution_count": 117,
     "metadata": {},
     "output_type": "execute_result"
    }
   ],
   "source": [
    "da.corr()"
   ]
  },
  {
   "cell_type": "code",
   "execution_count": null,
   "id": "11e40048",
   "metadata": {},
   "outputs": [],
   "source": []
  },
  {
   "cell_type": "code",
   "execution_count": 118,
   "id": "4499a1cf",
   "metadata": {},
   "outputs": [],
   "source": [
    "#Data Preprocessing :\n",
    "\n",
    "\n",
    "#1.Null Check \n",
    "#2.Outliers \n",
    "#3.Skewness\n",
    "#4.Feature Scalling\n",
    "#5.Duplicate check \n",
    "#6 Data enoding ( One hot )"
   ]
  },
  {
   "cell_type": "code",
   "execution_count": null,
   "id": "5eac62a0",
   "metadata": {},
   "outputs": [],
   "source": []
  },
  {
   "cell_type": "code",
   "execution_count": null,
   "id": "6cd7b83c",
   "metadata": {},
   "outputs": [],
   "source": []
  },
  {
   "cell_type": "code",
   "execution_count": null,
   "id": "0a03201d",
   "metadata": {},
   "outputs": [],
   "source": []
  },
  {
   "cell_type": "code",
   "execution_count": 120,
   "id": "90329708",
   "metadata": {},
   "outputs": [
    {
     "data": {
      "text/plain": [
       "Ap_CC        0\n",
       "Model        0\n",
       "Ex-show      0\n",
       "Insurance    0\n",
       "Pdi          0\n",
       "RTO          0\n",
       "On_Road      0\n",
       "dtype: int64"
      ]
     },
     "execution_count": 120,
     "metadata": {},
     "output_type": "execute_result"
    }
   ],
   "source": [
    "#1. Null Check :\n",
    "\n",
    "\n",
    "da.isnull().sum()"
   ]
  },
  {
   "cell_type": "code",
   "execution_count": 123,
   "id": "5a6c8e36",
   "metadata": {},
   "outputs": [
    {
     "data": {
      "text/plain": [
       "<AxesSubplot:>"
      ]
     },
     "execution_count": 123,
     "metadata": {},
     "output_type": "execute_result"
    },
    {
     "data": {
      "image/png": "[encoded data removed]",
      "text/plain": [
       "<Figure size 432x288 with 2 Axes>"
      ]
     },
     "metadata": {
      "needs_background": "light"
     },
     "output_type": "display_data"
    }
   ],
   "source": [
    "sns.heatmap(da.isnull())"
   ]
  },
  {
   "cell_type": "code",
   "execution_count": 124,
   "id": "7278e8a1",
   "metadata": {},
   "outputs": [],
   "source": [
    "#✅ no null values"
   ]
  },
  {
   "cell_type": "code",
   "execution_count": null,
   "id": "683cd9fa",
   "metadata": {},
   "outputs": [],
   "source": []
  },
  {
   "cell_type": "code",
   "execution_count": 125,
   "id": "ae4706f3",
   "metadata": {},
   "outputs": [],
   "source": [
    "# 2. Duplicate check :"
   ]
  },
  {
   "cell_type": "code",
   "execution_count": 127,
   "id": "3c741950",
   "metadata": {},
   "outputs": [
    {
     "data": {
      "text/plain": [
       "(6, 7)"
      ]
     },
     "execution_count": 127,
     "metadata": {},
     "output_type": "execute_result"
    }
   ],
   "source": [
    "da.shape"
   ]
  },
  {
   "cell_type": "code",
   "execution_count": null,
   "id": "6b550cb3",
   "metadata": {},
   "outputs": [],
   "source": []
  },
  {
   "cell_type": "code",
   "execution_count": 129,
   "id": "317ac2ea",
   "metadata": {},
   "outputs": [],
   "source": [
    "da.drop_duplicates(keep=False,inplace=True)"
   ]
  },
  {
   "cell_type": "code",
   "execution_count": 130,
   "id": "0a87dbfc",
   "metadata": {},
   "outputs": [
    {
     "data": {
      "text/html": [
       "<div>\n",
       "<style scoped>\n",
       "    .dataframe tbody tr th:only-of-type {\n",
       "        vertical-align: middle;\n",
       "    }\n",
       "\n",
       "    .dataframe tbody tr th {\n",
       "        vertical-align: top;\n",
       "    }\n",
       "\n",
       "    .dataframe thead th {\n",
       "        text-align: right;\n",
       "    }\n",
       "</style>\n",
       "<table border=\"1\" class=\"dataframe\">\n",
       "  <thead>\n",
       "    <tr style=\"text-align: right;\">\n",
       "      <th></th>\n",
       "      <th>Ap_CC</th>\n",
       "      <th>Model</th>\n",
       "      <th>Ex-show</th>\n",
       "      <th>Insurance</th>\n",
       "      <th>Pdi</th>\n",
       "      <th>RTO</th>\n",
       "      <th>On_Road</th>\n",
       "    </tr>\n",
       "  </thead>\n",
       "  <tbody>\n",
       "    <tr>\n",
       "      <th>0</th>\n",
       "      <td>125</td>\n",
       "      <td>SR-125RST</td>\n",
       "      <td>120080</td>\n",
       "      <td>7311</td>\n",
       "      <td>1499</td>\n",
       "      <td>16248</td>\n",
       "      <td>141538</td>\n",
       "    </tr>\n",
       "    <tr>\n",
       "      <th>1</th>\n",
       "      <td>125</td>\n",
       "      <td>SXR-125</td>\n",
       "      <td>130275</td>\n",
       "      <td>7511</td>\n",
       "      <td>1499</td>\n",
       "      <td>17496</td>\n",
       "      <td>156781</td>\n",
       "    </tr>\n",
       "    <tr>\n",
       "      <th>2</th>\n",
       "      <td>160</td>\n",
       "      <td>SR160-ABS</td>\n",
       "      <td>128978</td>\n",
       "      <td>11760</td>\n",
       "      <td>1499</td>\n",
       "      <td>17336</td>\n",
       "      <td>159573</td>\n",
       "    </tr>\n",
       "    <tr>\n",
       "      <th>3</th>\n",
       "      <td>160</td>\n",
       "      <td>SR160-Carbon</td>\n",
       "      <td>131489</td>\n",
       "      <td>11812</td>\n",
       "      <td>1499</td>\n",
       "      <td>17644</td>\n",
       "      <td>162444</td>\n",
       "    </tr>\n",
       "    <tr>\n",
       "      <th>4</th>\n",
       "      <td>160</td>\n",
       "      <td>SR160-Race</td>\n",
       "      <td>138230</td>\n",
       "      <td>11953</td>\n",
       "      <td>1499</td>\n",
       "      <td>18469</td>\n",
       "      <td>170151</td>\n",
       "    </tr>\n",
       "    <tr>\n",
       "      <th>5</th>\n",
       "      <td>160</td>\n",
       "      <td>SXR160</td>\n",
       "      <td>141391</td>\n",
       "      <td>12018</td>\n",
       "      <td>1499</td>\n",
       "      <td>18856</td>\n",
       "      <td>173764</td>\n",
       "    </tr>\n",
       "  </tbody>\n",
       "</table>\n",
       "</div>"
      ],
      "text/plain": [
       "  Ap_CC         Model  Ex-show  Insurance   Pdi    RTO  On_Road\n",
       "0   125     SR-125RST   120080       7311  1499  16248   141538\n",
       "1   125       SXR-125   130275       7511  1499  17496   156781\n",
       "2   160     SR160-ABS   128978      11760  1499  17336   159573\n",
       "3   160  SR160-Carbon   131489      11812  1499  17644   162444\n",
       "4   160    SR160-Race   138230      11953  1499  18469   170151\n",
       "5   160        SXR160   141391      12018  1499  18856   173764"
      ]
     },
     "execution_count": 130,
     "metadata": {},
     "output_type": "execute_result"
    }
   ],
   "source": [
    "da"
   ]
  },
  {
   "cell_type": "code",
   "execution_count": 131,
   "id": "110bbb9c",
   "metadata": {},
   "outputs": [
    {
     "data": {
      "text/plain": [
       "(6, 7)"
      ]
     },
     "execution_count": 131,
     "metadata": {},
     "output_type": "execute_result"
    }
   ],
   "source": [
    "da.shape"
   ]
  },
  {
   "cell_type": "code",
   "execution_count": 132,
   "id": "cdd54daf",
   "metadata": {},
   "outputs": [],
   "source": [
    "#✅ no duplicate values"
   ]
  },
  {
   "cell_type": "code",
   "execution_count": 133,
   "id": "2523e929",
   "metadata": {},
   "outputs": [],
   "source": [
    "# Skewness check:\n"
   ]
  },
  {
   "cell_type": "code",
   "execution_count": 135,
   "id": "e82db984",
   "metadata": {},
   "outputs": [
    {
     "data": {
      "text/plain": [
       "Text(0.5, 1.0, 'Ex-show data')"
      ]
     },
     "execution_count": 135,
     "metadata": {},
     "output_type": "execute_result"
    },
    {
     "data": {
      "image/png": "[encoded data removed]",
      "text/plain": [
       "<Figure size 432x288 with 1 Axes>"
      ]
     },
     "metadata": {
      "needs_background": "light"
     },
     "output_type": "display_data"
    }
   ],
   "source": [
    "import warnings\n",
    "warnings.filterwarnings('ignore')\n",
    "\n",
    "\n",
    "sns.distplot(da['Ex-show'],color='b')\n",
    "plt.title('Ex-show data')"
   ]
  },
  {
   "cell_type": "code",
   "execution_count": 136,
   "id": "5ad09ddf",
   "metadata": {
    "scrolled": true
   },
   "outputs": [
    {
     "data": {
      "text/plain": [
       "Text(0.5, 1.0, 'insurance data')"
      ]
     },
     "execution_count": 136,
     "metadata": {},
     "output_type": "execute_result"
    },
    {
     "data": {
      "image/png": "[encoded data removed]",
      "text/plain": [
       "<Figure size 432x288 with 1 Axes>"
      ]
     },
     "metadata": {
      "needs_background": "light"
     },
     "output_type": "display_data"
    }
   ],
   "source": [
    "sns.distplot(da['Insurance'],color='y')\n",
    "plt.title(\"insurance data\")"
   ]
  },
  {
   "cell_type": "code",
   "execution_count": 137,
   "id": "31965c77",
   "metadata": {},
   "outputs": [
    {
     "name": "stdout",
     "output_type": "stream",
     "text": [
      "skew of Insurance data: -0.964455\n"
     ]
    }
   ],
   "source": [
    "print('skew of Insurance data: %f'% da['Insurance'].skew())"
   ]
  },
  {
   "cell_type": "markdown",
   "id": "88f74b38",
   "metadata": {},
   "source": [
    "# Moderately skewed"
   ]
  },
  {
   "cell_type": "code",
   "execution_count": 138,
   "id": "950bcb37",
   "metadata": {},
   "outputs": [
    {
     "data": {
      "text/plain": [
       "Text(0.5, 1.0, 'Insurance data Log Transform')"
      ]
     },
     "execution_count": 138,
     "metadata": {},
     "output_type": "execute_result"
    },
    {
     "data": {
      "image/png": "[encoded data removed]",
      "text/plain": [
       "<Figure size 432x288 with 1 Axes>"
      ]
     },
     "metadata": {
      "needs_background": "light"
     },
     "output_type": "display_data"
    }
   ],
   "source": [
    "# Log transformation :\n",
    "\n",
    "\n",
    " # Single log transform\n",
    "\n",
    "    \n",
    "SingleLog_y=np.log1p(da['Insurance'])\n",
    "sns.distplot(SingleLog_y,color='r')\n",
    "plt.title(\"Insurance data Log Transform\")"
   ]
  },
  {
   "cell_type": "code",
   "execution_count": 139,
   "id": "2aac9561",
   "metadata": {},
   "outputs": [
    {
     "name": "stdout",
     "output_type": "stream",
     "text": [
      "skew after  Double Log Transform: -0.969545\n"
     ]
    },
    {
     "data": {
      "image/png": "[encoded data removed]",
      "text/plain": [
       "<Figure size 432x288 with 1 Axes>"
      ]
     },
     "metadata": {
      "needs_background": "light"
     },
     "output_type": "display_data"
    }
   ],
   "source": [
    "# Double log transformation :\n",
    "\n",
    "DoubleLog_y=np.log1p(SingleLog_y)\n",
    "sns.distplot(SingleLog_y,color='g')\n",
    "plt.title('Invoice value (₹) after  Double Log Transform')\n",
    "\n",
    "print(\"skew after  Double Log Transform: %f\" % DoubleLog_y.skew())\n",
    "\n"
   ]
  },
  {
   "cell_type": "code",
   "execution_count": null,
   "id": "f48c1cf3",
   "metadata": {},
   "outputs": [],
   "source": []
  },
  {
   "cell_type": "code",
   "execution_count": null,
   "id": "36057d7d",
   "metadata": {},
   "outputs": [],
   "source": []
  },
  {
   "cell_type": "code",
   "execution_count": null,
   "id": "b62f5742",
   "metadata": {},
   "outputs": [],
   "source": []
  },
  {
   "cell_type": "code",
   "execution_count": 140,
   "id": "3c3bfda3",
   "metadata": {},
   "outputs": [
    {
     "data": {
      "text/html": [
       "<div>\n",
       "<style scoped>\n",
       "    .dataframe tbody tr th:only-of-type {\n",
       "        vertical-align: middle;\n",
       "    }\n",
       "\n",
       "    .dataframe tbody tr th {\n",
       "        vertical-align: top;\n",
       "    }\n",
       "\n",
       "    .dataframe thead th {\n",
       "        text-align: right;\n",
       "    }\n",
       "</style>\n",
       "<table border=\"1\" class=\"dataframe\">\n",
       "  <thead>\n",
       "    <tr style=\"text-align: right;\">\n",
       "      <th></th>\n",
       "      <th>Version_VESPA</th>\n",
       "      <th>Model</th>\n",
       "      <th>Ex-showroom</th>\n",
       "      <th>Insurance</th>\n",
       "      <th>PDI handling</th>\n",
       "      <th>RTO</th>\n",
       "      <th>ON_Road</th>\n",
       "    </tr>\n",
       "  </thead>\n",
       "  <tbody>\n",
       "    <tr>\n",
       "      <th>0</th>\n",
       "      <td>125cc</td>\n",
       "      <td>ZX</td>\n",
       "      <td>113990</td>\n",
       "      <td>7188</td>\n",
       "      <td>1499</td>\n",
       "      <td>15502</td>\n",
       "      <td>138179</td>\n",
       "    </tr>\n",
       "    <tr>\n",
       "      <th>1</th>\n",
       "      <td>125cc</td>\n",
       "      <td>VXL</td>\n",
       "      <td>128108</td>\n",
       "      <td>7469</td>\n",
       "      <td>1499</td>\n",
       "      <td>17230</td>\n",
       "      <td>154306</td>\n",
       "    </tr>\n",
       "    <tr>\n",
       "      <th>2</th>\n",
       "      <td>125cc</td>\n",
       "      <td>SXL</td>\n",
       "      <td>131984</td>\n",
       "      <td>7544</td>\n",
       "      <td>1499</td>\n",
       "      <td>17705</td>\n",
       "      <td>158732</td>\n",
       "    </tr>\n",
       "    <tr>\n",
       "      <th>3</th>\n",
       "      <td>125cc</td>\n",
       "      <td>SXL Racing_SIXTIES</td>\n",
       "      <td>137805</td>\n",
       "      <td>7660</td>\n",
       "      <td>1499</td>\n",
       "      <td>18417</td>\n",
       "      <td>165381</td>\n",
       "    </tr>\n",
       "    <tr>\n",
       "      <th>4</th>\n",
       "      <td>125cc</td>\n",
       "      <td>75th YELLOW</td>\n",
       "      <td>140500</td>\n",
       "      <td>7713</td>\n",
       "      <td>1499</td>\n",
       "      <td>17197</td>\n",
       "      <td>166909</td>\n",
       "    </tr>\n",
       "    <tr>\n",
       "      <th>5</th>\n",
       "      <td>150cc</td>\n",
       "      <td>VXL</td>\n",
       "      <td>141570</td>\n",
       "      <td>7735</td>\n",
       "      <td>1499</td>\n",
       "      <td>18878</td>\n",
       "      <td>169682</td>\n",
       "    </tr>\n",
       "    <tr>\n",
       "      <th>6</th>\n",
       "      <td>150cc</td>\n",
       "      <td>SXL</td>\n",
       "      <td>145936</td>\n",
       "      <td>7822</td>\n",
       "      <td>1499</td>\n",
       "      <td>19413</td>\n",
       "      <td>174670</td>\n",
       "    </tr>\n",
       "    <tr>\n",
       "      <th>7</th>\n",
       "      <td>150cc</td>\n",
       "      <td>SXL_RACING_SIXTIES</td>\n",
       "      <td>151604</td>\n",
       "      <td>7933</td>\n",
       "      <td>1499</td>\n",
       "      <td>20106</td>\n",
       "      <td>181142</td>\n",
       "    </tr>\n",
       "    <tr>\n",
       "      <th>8</th>\n",
       "      <td>150cc</td>\n",
       "      <td>ELEGANTE</td>\n",
       "      <td>154025</td>\n",
       "      <td>7981</td>\n",
       "      <td>1499</td>\n",
       "      <td>20402</td>\n",
       "      <td>183907</td>\n",
       "    </tr>\n",
       "  </tbody>\n",
       "</table>\n",
       "</div>"
      ],
      "text/plain": [
       "  Version_VESPA               Model  Ex-showroom  Insurance  PDI handling  \\\n",
       "0         125cc                  ZX       113990       7188          1499   \n",
       "1         125cc                 VXL       128108       7469          1499   \n",
       "2         125cc                 SXL       131984       7544          1499   \n",
       "3         125cc  SXL Racing_SIXTIES       137805       7660          1499   \n",
       "4         125cc         75th YELLOW       140500       7713          1499   \n",
       "5         150cc                 VXL       141570       7735          1499   \n",
       "6         150cc                 SXL       145936       7822          1499   \n",
       "7         150cc  SXL_RACING_SIXTIES       151604       7933          1499   \n",
       "8         150cc            ELEGANTE       154025       7981          1499   \n",
       "\n",
       "     RTO  ON_Road  \n",
       "0  15502   138179  \n",
       "1  17230   154306  \n",
       "2  17705   158732  \n",
       "3  18417   165381  \n",
       "4  17197   166909  \n",
       "5  18878   169682  \n",
       "6  19413   174670  \n",
       "7  20106   181142  \n",
       "8  20402   183907  "
      ]
     },
     "execution_count": 140,
     "metadata": {},
     "output_type": "execute_result"
    }
   ],
   "source": [
    "df"
   ]
  },
  {
   "cell_type": "code",
   "execution_count": 142,
   "id": "14530d95",
   "metadata": {},
   "outputs": [
    {
     "data": {
      "text/plain": [
       "Index(['Ap_CC', 'Model', 'Ex-show', 'Insurance', 'Pdi', 'RTO', 'On_Road'], dtype='object')"
      ]
     },
     "execution_count": 142,
     "metadata": {},
     "output_type": "execute_result"
    }
   ],
   "source": [
    "da.columns"
   ]
  },
  {
   "cell_type": "code",
   "execution_count": 143,
   "id": "4e94be2f",
   "metadata": {},
   "outputs": [
    {
     "data": {
      "text/plain": [
       "Text(0.5, 1.0, 'Ex-showroom data distribution :')"
      ]
     },
     "execution_count": 143,
     "metadata": {},
     "output_type": "execute_result"
    },
    {
     "data": {
      "image/png": "[encoded data removed]",
      "text/plain": [
       "<Figure size 432x288 with 1 Axes>"
      ]
     },
     "metadata": {
      "needs_background": "light"
     },
     "output_type": "display_data"
    }
   ],
   "source": [
    " # Skewness of  Ex- show\n",
    "    \n",
    "    \n",
    "sns.distplot(da['Ex-show'],color='pink')\n",
    "plt.title('Ex-showroom data distribution :')"
   ]
  },
  {
   "cell_type": "code",
   "execution_count": 145,
   "id": "06d2c227",
   "metadata": {},
   "outputs": [],
   "source": [
    "# ✅ # data is normally distributed "
   ]
  },
  {
   "cell_type": "code",
   "execution_count": 146,
   "id": "8304c930",
   "metadata": {},
   "outputs": [],
   "source": [
    "# No need of log transform :"
   ]
  },
  {
   "cell_type": "code",
   "execution_count": null,
   "id": "4c0c621f",
   "metadata": {},
   "outputs": [],
   "source": []
  },
  {
   "cell_type": "code",
   "execution_count": 147,
   "id": "84a3379a",
   "metadata": {},
   "outputs": [
    {
     "data": {
      "text/html": [
       "<div>\n",
       "<style scoped>\n",
       "    .dataframe tbody tr th:only-of-type {\n",
       "        vertical-align: middle;\n",
       "    }\n",
       "\n",
       "    .dataframe tbody tr th {\n",
       "        vertical-align: top;\n",
       "    }\n",
       "\n",
       "    .dataframe thead th {\n",
       "        text-align: right;\n",
       "    }\n",
       "</style>\n",
       "<table border=\"1\" class=\"dataframe\">\n",
       "  <thead>\n",
       "    <tr style=\"text-align: right;\">\n",
       "      <th></th>\n",
       "      <th>Ap_CC</th>\n",
       "      <th>Model</th>\n",
       "      <th>Ex-show</th>\n",
       "      <th>Insurance</th>\n",
       "      <th>Pdi</th>\n",
       "      <th>RTO</th>\n",
       "      <th>On_Road</th>\n",
       "    </tr>\n",
       "  </thead>\n",
       "  <tbody>\n",
       "    <tr>\n",
       "      <th>0</th>\n",
       "      <td>125</td>\n",
       "      <td>SR-125RST</td>\n",
       "      <td>120080</td>\n",
       "      <td>7311</td>\n",
       "      <td>1499</td>\n",
       "      <td>16248</td>\n",
       "      <td>141538</td>\n",
       "    </tr>\n",
       "    <tr>\n",
       "      <th>1</th>\n",
       "      <td>125</td>\n",
       "      <td>SXR-125</td>\n",
       "      <td>130275</td>\n",
       "      <td>7511</td>\n",
       "      <td>1499</td>\n",
       "      <td>17496</td>\n",
       "      <td>156781</td>\n",
       "    </tr>\n",
       "  </tbody>\n",
       "</table>\n",
       "</div>"
      ],
      "text/plain": [
       "  Ap_CC      Model  Ex-show  Insurance   Pdi    RTO  On_Road\n",
       "0   125  SR-125RST   120080       7311  1499  16248   141538\n",
       "1   125    SXR-125   130275       7511  1499  17496   156781"
      ]
     },
     "execution_count": 147,
     "metadata": {},
     "output_type": "execute_result"
    }
   ],
   "source": [
    "da.head(2)"
   ]
  },
  {
   "cell_type": "code",
   "execution_count": 149,
   "id": "95c164ce",
   "metadata": {},
   "outputs": [
    {
     "data": {
      "text/plain": [
       "Text(0.5, 1.0, 'RTO data Distribution :')"
      ]
     },
     "execution_count": 149,
     "metadata": {},
     "output_type": "execute_result"
    },
    {
     "data": {
      "image/png": "[encoded data removed]",
      "text/plain": [
       "<Figure size 432x288 with 1 Axes>"
      ]
     },
     "metadata": {
      "needs_background": "light"
     },
     "output_type": "display_data"
    }
   ],
   "source": [
    "# For  RtO\n",
    "\n",
    "\n",
    "sns.distplot(da['RTO'],color='Orange')\n",
    "plt.title('RTO data Distribution :')"
   ]
  },
  {
   "cell_type": "code",
   "execution_count": 150,
   "id": "575b3bfb",
   "metadata": {},
   "outputs": [],
   "source": [
    "# ✅ # data is normally distributed \n",
    "# No need of log transform :"
   ]
  },
  {
   "cell_type": "code",
   "execution_count": null,
   "id": "21b1b323",
   "metadata": {},
   "outputs": [],
   "source": []
  },
  {
   "cell_type": "code",
   "execution_count": 151,
   "id": "b2f0718c",
   "metadata": {},
   "outputs": [
    {
     "data": {
      "text/plain": [
       "Text(0.5, 1.0, 'on-rod  pirce data distribution ')"
      ]
     },
     "execution_count": 151,
     "metadata": {},
     "output_type": "execute_result"
    },
    {
     "data": {
      "image/png": "[encoded data removed]",
      "text/plain": [
       "<Figure size 432x288 with 1 Axes>"
      ]
     },
     "metadata": {
      "needs_background": "light"
     },
     "output_type": "display_data"
    }
   ],
   "source": [
    "# for  on road ;\n",
    "\n",
    "sns.distplot(da['On_Road'],color='Indigo')\n",
    "plt.title(\"on-rod  pirce data distribution \")"
   ]
  },
  {
   "cell_type": "code",
   "execution_count": 152,
   "id": "01db6fe2",
   "metadata": {},
   "outputs": [],
   "source": [
    "# ✅ # data is normally distributed \n",
    "# No need of log transform :"
   ]
  },
  {
   "cell_type": "code",
   "execution_count": null,
   "id": "a4cff2fe",
   "metadata": {},
   "outputs": [],
   "source": []
  },
  {
   "cell_type": "code",
   "execution_count": null,
   "id": "5ce912ac",
   "metadata": {},
   "outputs": [],
   "source": []
  },
  {
   "cell_type": "code",
   "execution_count": null,
   "id": "cff800fc",
   "metadata": {},
   "outputs": [],
   "source": []
  },
  {
   "cell_type": "code",
   "execution_count": null,
   "id": "9c8c5462",
   "metadata": {},
   "outputs": [],
   "source": []
  },
  {
   "cell_type": "code",
   "execution_count": null,
   "id": "d554ae68",
   "metadata": {},
   "outputs": [],
   "source": []
  },
  {
   "cell_type": "code",
   "execution_count": null,
   "id": "acea5717",
   "metadata": {},
   "outputs": [],
   "source": []
  },
  {
   "cell_type": "code",
   "execution_count": null,
   "id": "98ddbdef",
   "metadata": {},
   "outputs": [],
   "source": []
  },
  {
   "cell_type": "code",
   "execution_count": null,
   "id": "43b859bd",
   "metadata": {},
   "outputs": [],
   "source": []
  },
  {
   "cell_type": "markdown",
   "id": "fe3f98b9",
   "metadata": {},
   "source": [
    "# Outliers "
   ]
  },
  {
   "cell_type": "code",
   "execution_count": 155,
   "id": "f4b1508d",
   "metadata": {},
   "outputs": [
    {
     "data": {
      "text/plain": [
       "<AxesSubplot:>"
      ]
     },
     "execution_count": 155,
     "metadata": {},
     "output_type": "execute_result"
    },
    {
     "data": {
      "image/png": "[encoded data removed]",
      "text/plain": [
       "<Figure size 576x576 with 1 Axes>"
      ]
     },
     "metadata": {
      "needs_background": "light"
     },
     "output_type": "display_data"
    }
   ],
   "source": [
    "plt.figure(figsize=(8,8))\n",
    "sns.boxplot(data=da)\n",
    "    "
   ]
  },
  {
   "cell_type": "code",
   "execution_count": 156,
   "id": "63c4c426",
   "metadata": {},
   "outputs": [],
   "source": [
    "#✅ no outlers in dataset : "
   ]
  },
  {
   "cell_type": "code",
   "execution_count": null,
   "id": "117a221e",
   "metadata": {},
   "outputs": [],
   "source": []
  },
  {
   "cell_type": "code",
   "execution_count": null,
   "id": "cc76fda8",
   "metadata": {},
   "outputs": [],
   "source": []
  },
  {
   "cell_type": "code",
   "execution_count": null,
   "id": "34203d91",
   "metadata": {},
   "outputs": [],
   "source": []
  },
  {
   "cell_type": "code",
   "execution_count": null,
   "id": "5b6abfe6",
   "metadata": {},
   "outputs": [],
   "source": []
  },
  {
   "cell_type": "code",
   "execution_count": null,
   "id": "ab1ba804",
   "metadata": {},
   "outputs": [],
   "source": []
  },
  {
   "cell_type": "code",
   "execution_count": null,
   "id": "8b5ec3c9",
   "metadata": {},
   "outputs": [],
   "source": []
  },
  {
   "cell_type": "code",
   "execution_count": 159,
   "id": "c30800fc",
   "metadata": {},
   "outputs": [],
   "source": [
    "# Data scalling :\n",
    "✅✅✅\n",
    "\n",
    "\n",
    " # according to past expericene we can say that data is scalled one :\n",
    "    \n",
    "    \n",
    "    \n",
    "    "
   ]
  },
  {
   "cell_type": "code",
   "execution_count": 160,
   "id": "c808381b",
   "metadata": {},
   "outputs": [],
   "source": [
    "# ✅  no need of data  encoding :"
   ]
  },
  {
   "cell_type": "code",
   "execution_count": null,
   "id": "5628d49a",
   "metadata": {},
   "outputs": [],
   "source": []
  },
  {
   "cell_type": "code",
   "execution_count": null,
   "id": "47844d0d",
   "metadata": {},
   "outputs": [],
   "source": []
  },
  {
   "cell_type": "code",
   "execution_count": null,
   "id": "6639e02c",
   "metadata": {},
   "outputs": [],
   "source": []
  },
  {
   "cell_type": "code",
   "execution_count": null,
   "id": "9b0e17eb",
   "metadata": {},
   "outputs": [],
   "source": []
  },
  {
   "cell_type": "code",
   "execution_count": null,
   "id": "5c18dd49",
   "metadata": {},
   "outputs": [],
   "source": []
  },
  {
   "cell_type": "code",
   "execution_count": null,
   "id": "079b3b47",
   "metadata": {},
   "outputs": [],
   "source": []
  },
  {
   "cell_type": "code",
   "execution_count": 161,
   "id": "f76710f8",
   "metadata": {},
   "outputs": [],
   "source": [
    "# EDA :\n",
    "\n"
   ]
  },
  {
   "cell_type": "code",
   "execution_count": 162,
   "id": "54ae913a",
   "metadata": {},
   "outputs": [
    {
     "data": {
      "text/plain": [
       "<seaborn.axisgrid.PairGrid at 0x18b9160e2e0>"
      ]
     },
     "execution_count": 162,
     "metadata": {},
     "output_type": "execute_result"
    },
    {
     "data": {
      "image/png": "[encoded data removed]",
      "text/plain": [
       "<Figure size 900x900 with 30 Axes>"
      ]
     },
     "metadata": {
      "needs_background": "light"
     },
     "output_type": "display_data"
    }
   ],
   "source": [
    "sns.pairplot(da)"
   ]
  },
  {
   "cell_type": "code",
   "execution_count": 166,
   "id": "65a4de11",
   "metadata": {},
   "outputs": [
    {
     "data": {
      "text/plain": [
       "<AxesSubplot:>"
      ]
     },
     "execution_count": 166,
     "metadata": {},
     "output_type": "execute_result"
    },
    {
     "data": {
      "image/png": "[encoded data removed]",
      "text/plain": [
       "<Figure size 432x288 with 2 Axes>"
      ]
     },
     "metadata": {
      "needs_background": "light"
     },
     "output_type": "display_data"
    }
   ],
   "source": [
    "sns.heatmap(da.corr(),annot=True,cmap='CMRmap_r')"
   ]
  },
  {
   "cell_type": "code",
   "execution_count": 168,
   "id": "5847da95",
   "metadata": {},
   "outputs": [],
   "source": [
    "# Ex- show == On_Road         98% \n",
    "# Insurance == On raod          82 %\n",
    "# RTO   == On raod              98%\n"
   ]
  },
  {
   "cell_type": "code",
   "execution_count": null,
   "id": "5d78ae12",
   "metadata": {},
   "outputs": [],
   "source": []
  },
  {
   "cell_type": "code",
   "execution_count": null,
   "id": "e71e119d",
   "metadata": {},
   "outputs": [],
   "source": []
  },
  {
   "cell_type": "code",
   "execution_count": null,
   "id": "2b8a404e",
   "metadata": {},
   "outputs": [],
   "source": []
  },
  {
   "cell_type": "code",
   "execution_count": null,
   "id": "c51922f9",
   "metadata": {},
   "outputs": [],
   "source": []
  },
  {
   "cell_type": "code",
   "execution_count": null,
   "id": "eb272a43",
   "metadata": {},
   "outputs": [],
   "source": [
    "\n"
   ]
  }
 ],
 "metadata": {
  "kernelspec": {
   "display_name": "Python 3 (ipykernel)",
   "language": "python",
   "name": "python3"
  },
  "language_info": {
   "codemirror_mode": {
    "name": "ipython",
    "version": 3
   },
   "file_extension": ".py",
   "mimetype": "text/x-python",
   "name": "python",
   "nbconvert_exporter": "python",
   "pygments_lexer": "ipython3",
   "version": "3.9.13"
  }
 },
 "nbformat": 4,
 "nbformat_minor": 5
}
